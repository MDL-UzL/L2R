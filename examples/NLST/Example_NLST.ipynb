{
 "cells": [
  {
   "cell_type": "code",
   "execution_count": 1,
   "id": "4fe05493",
   "metadata": {
    "scrolled": true
   },
   "outputs": [],
   "source": [
    "import time\n",
    "import torch\n",
    "import torch.nn as nn\n",
    "import torch.nn.functional as F\n",
    "import numpy as np\n",
    "from tqdm.notebook import tqdm\n",
    "import sys\n",
    "import os\n",
    "import json\n",
    "\n",
    "\n",
    "os.environ[\"CUDA_DEVICE_ORDER\"] = \"PCI_BUS_ID\"\n",
    "os.environ['CUDA_VISIBLE_DEVICES'] = '1'\n",
    "\n",
    "def gpu_usage():\n",
    "    print('gpu usage (current/max): {:.2f} / {:.2f} GB'.format(torch.cuda.memory_allocated()*1e-9, torch.cuda.max_memory_allocated()*1e-9))"
   ]
  },
  {
   "cell_type": "code",
   "execution_count": 3,
   "id": "2c0e25b2",
   "metadata": {},
   "outputs": [],
   "source": [
    "#load data\n",
    "#from torch.utils.data import Dataset, DataLoader\n",
    "\n",
    "data_path='../../Learn2Reg_Dataset_release_v1.0/NLST/'\n",
    "\n",
    "#write dataloader\n",
    "\n",
    "import os\n",
    "import json\n",
    "import nibabel as nib\n",
    "\n",
    "class NLST(torch.utils.data.Dataset):\n",
    "    def __init__(self, root_dir, masked=True, downsampled=False):\n",
    "        \"\"\"\n",
    "        NLST_Dataset\n",
    "        Provides FIXED_IMG, MOVING_IMG, FIXED_KEYPOINTS, MOVING_KEYPOINTS\n",
    "        \"\"\"\n",
    "        self.root_dir = root_dir\n",
    "        self.image_dir = os.path.join(root_dir,'imagesTr')\n",
    "        self.keypoint_dir = os.path.join(root_dir,'keypointsTr')\n",
    "        self.masked = masked\n",
    "        with open(os.path.join(data_path,'NLST_dataset.json')) as f:\n",
    "            self.dataset_json = json.load(f)\n",
    "        self.shape = self.dataset_json['tensorImageShape']['0']\n",
    "        self.H, self.W, self.D = self.shape\n",
    "        self.downsampled = downsampled\n",
    "        \n",
    "    def __len__(self):\n",
    "        return self.dataset_json['numPairedTraining']\n",
    "\n",
    "    def get_shape(self):\n",
    "        if self.downsampled:\n",
    "            return [x//2 for x in self.shape]\n",
    "        else:\n",
    "            return self.shape\n",
    "    \n",
    "    def __getitem__(self, idx):\n",
    "        fix_path=os.path.join(self.root_dir,self.dataset_json['training_paired_images'][idx]['fixed'])\n",
    "        mov_path=os.path.join(self.root_dir,self.dataset_json['training_paired_images'][idx]['moving'])\n",
    "    \n",
    "        fixed_img=torch.from_numpy(nib.load(fix_path).get_fdata())\n",
    "        moving_img=torch.from_numpy(nib.load(mov_path).get_fdata())\n",
    "        \n",
    "        fixed_kp=torch.from_numpy(np.genfromtxt(fix_path.replace('images','keypoints').replace('nii.gz','csv'),delimiter=','))\n",
    "        moving_kp=torch.from_numpy(np.genfromtxt(mov_path.replace('images','keypoints').replace('nii.gz','csv'),delimiter=','))\n",
    "        fixed_kp=(fixed_kp.flip(-1)/torch.tensor(self.shape))*2-1\n",
    "        moving_kp=(moving_kp.flip(-1)/torch.tensor(self.shape))*2-1\n",
    "\n",
    "        if self.masked and not self.downsampled:\n",
    "            fixed_img=torch.from_numpy(nib.load(fix_path.replace('images', 'masks')).get_fdata())*fixed_img\n",
    "            moving_img=torch.from_numpy(nib.load(mov_path.replace('images', 'masks')).get_fdata())*moving_img\n",
    "        \n",
    "        if self.downsampled:\n",
    "            fixed_img=F.interpolate(fixed_img.view(1,1,self.H,self.W,self.D),size=(self.H//2,self.W//2,self.D//2),mode='trilinear').squeeze()\n",
    "            moving_img=F.interpolate(moving_img.view(1,1,self.H,self.W,self.D), size=(self.H//2,self.W//2,self.D//2), mode='trilinear').squeeze()\n",
    "            if self.masked:\n",
    "                fixed_img*=F.interpolate(torch.from_numpy(nib.load(fix_path.replace('images', 'masks')).get_fdata()).view(1,1,self.H,self.W,self.D),size=(self.H//2,self.W//2,self.D//2),mode='nearest').squeeze()\n",
    "                moving_img*=F.interpolate(torch.from_numpy(nib.load(mov_path.replace('images', 'masks')).get_fdata()).view(1,1,self.H,self.W,self.D),size=(self.H//2,self.W//2,self.D//2),mode='nearest').squeeze()\n",
    "\n",
    "        return fixed_img, moving_img, fixed_kp, moving_kp\n",
    " \n",
    "\n",
    "NLST_dataset=NLST(data_path, downsampled=True, masked=True)\n",
    "\n",
    "\n"
   ]
  },
  {
   "cell_type": "code",
   "execution_count": 4,
   "id": "ae3e24c2",
   "metadata": {},
   "outputs": [
    {
     "data": {
      "application/vnd.jupyter.widget-view+json": {
       "model_id": "683a26d337a54399adcb8d7ddeaa7f94",
       "version_major": 2,
       "version_minor": 0
      },
      "text/plain": [
       "  0%|          | 0/90 [00:00<?, ?it/s]"
      ]
     },
     "metadata": {},
     "output_type": "display_data"
    }
   ],
   "source": [
    "H,W,D= NLST_dataset.get_shape()\n",
    "img_all_fix=torch.zeros((100,1,H,W,D))\n",
    "img_all_mov=torch.zeros((100,1,H,W,D))\n",
    "kpts_all_fix=[]\n",
    "kpts_all_mov=[]\n",
    "\n",
    "with tqdm(total=100, file=sys.stdout) as pbar:\n",
    "    for idx,value in enumerate(range(100)):\n",
    "        img_all_fix[idx,0,...],img_all_mov[idx,0,...],tmp_kpts_fix, tmp_kpts_mov  = NLST_dataset[value]\n",
    "        kpts_all_fix.append(tmp_kpts_fix.float())\n",
    "        kpts_all_mov.append(tmp_kpts_mov.float())\n",
    "        pbar.update(1)\n",
    "        \n"
   ]
  },
  {
   "cell_type": "code",
   "execution_count": 5,
   "id": "bf4e8130",
   "metadata": {},
   "outputs": [],
   "source": [
    "##plot sample\n",
    "# import matplotlib.pyplot as plt\n",
    "# idx=15; slice_=35\n",
    "# H,W,D=NLST_dataset.get_shape()\n",
    "# img_fix, img_mov, kpts_fix, kpts_mov = NLST_dataset[idx]\n",
    "# kpts_fix_world=torch.round(((kpts_fix+1)/2)*torch.tensor([H,W,D]))\n",
    "# kpts_fix_world=kpts_fix_world[abs(kpts_fix_world[:,1]-slice_)<2]\n",
    "# plt.imshow(img_fix[:,slice_],'gray')\n",
    "# plt.plot(kpts_fix_world[:,0], kpts_fix_world[:,2], 'r+')\n",
    "# plt.show()\n"
   ]
  },
  {
   "cell_type": "code",
   "execution_count": 6,
   "id": "f7fb7623",
   "metadata": {},
   "outputs": [],
   "source": [
    "\n",
    "def get_layer(model, name):\n",
    "    layer = model\n",
    "    for attr in name.split(\".\"):\n",
    "        layer = getattr(layer, attr)\n",
    "    return layer\n",
    "\n",
    "\n",
    "def set_layer(model, name, layer):\n",
    "    try:\n",
    "        attrs, name = name.rsplit(\".\", 1)\n",
    "        model = get_layer(model, attrs)\n",
    "    except ValueError:\n",
    "        pass\n",
    "    setattr(model, name, layer)\n",
    "import torchvision\n",
    "resnet = torchvision.models.resnet18(pretrained=False)"
   ]
  },
  {
   "cell_type": "code",
   "execution_count": 7,
   "id": "c66a4229",
   "metadata": {},
   "outputs": [
    {
     "name": "stdout",
     "output_type": "stream",
     "text": [
      "15 # Conv2d > Conv3d and 15 #BatchNorms\n",
      "\n"
     ]
    }
   ],
   "source": [
    "resnet = torchvision.models.resnet18(pretrained=False)\n",
    "resnet.layer4 = nn.Identity()\n",
    "resnet.avgpool = nn.Identity()\n",
    "resnet.maxpool = nn.MaxPool3d(2)\n",
    "\n",
    "resnet.fc = nn.Sequential(nn.Unflatten(1,(8*32//2,28,24,28)),nn.Upsample(scale_factor=2,mode='trilinear'))\n",
    "\n",
    "resnet.conv1 = nn.Conv2d(2,64,5,stride=1,padding=2)\n",
    "resnet.layer2[0].conv1.stride = (1,1)\n",
    "resnet.layer2[0].downsample[0].stride=1\n",
    "\n",
    "count = 0; count2 = 0\n",
    "for name, module in resnet.named_modules():\n",
    "    if isinstance(module, nn.Conv2d):\n",
    "        before = get_layer(resnet, name)\n",
    "        after = nn.Conv3d(before.in_channels//2,before.out_channels//2,int(torch.tensor(before.kernel_size)[0]),stride=int(torch.tensor(before.stride).view(-1)[0]),padding=before.padding[0])\n",
    "        set_layer(resnet, name, after); count += 1\n",
    "    if isinstance(module, nn.BatchNorm2d):\n",
    "        before = get_layer(resnet, name)\n",
    "        after = nn.BatchNorm3d(before.num_features//2)\n",
    "        set_layer(resnet, name, after); count2 += 1\n",
    "print(count,'# Conv2d > Conv3d','and',count2,'#BatchNorms')\n",
    "resnet.cuda()\n",
    "print()\n"
   ]
  },
  {
   "cell_type": "code",
   "execution_count": 8,
   "id": "2e5487a9",
   "metadata": {},
   "outputs": [
    {
     "name": "stdout",
     "output_type": "stream",
     "text": [
      "\n"
     ]
    }
   ],
   "source": [
    "\n",
    "class ConvBlock(nn.Module):\n",
    "    def __init__(self, in_channels, out_channels):\n",
    "        super().__init__()\n",
    "        self.conv1 = nn.Sequential(nn.Conv3d(in_channels,out_channels,3,padding=1,bias=False),\\\n",
    "                                   nn.InstanceNorm3d(out_channels),nn.ReLU(inplace=True))\n",
    "        self.conv2 = nn.Sequential(nn.Conv3d(out_channels,out_channels,1,bias=False),\\\n",
    "                                   nn.InstanceNorm3d(out_channels),nn.ReLU(inplace=True))\n",
    "\n",
    "    def forward(self, x):\n",
    "        x = self.conv1(x)\n",
    "        return self.conv2(x)\n",
    "    \n",
    "class UNet(nn.Module):\n",
    "    def __init__(self):\n",
    "        super().__init__()\n",
    "        self.encoder = nn.ModuleDict({'enc1':ConvBlock(256,32),'enc2':ConvBlock(32,48),'enc3':ConvBlock(48,48),\\\n",
    "                                      'enc4':ConvBlock(48,64)})\n",
    "        self.decoder = nn.ModuleDict({'dec1':ConvBlock(64+48,48),\\\n",
    "                                      'dec2':ConvBlock(48+48,48),'dec3':ConvBlock(48+32,32)})\n",
    "        self.conv1 = ConvBlock(32,64)\n",
    "        self.conv2 = nn.Sequential(nn.Conv3d(64,32,1,bias=False),nn.InstanceNorm3d(32),nn.ReLU(inplace=True),\\\n",
    "                                 nn.Conv3d(32,32,1,bias=False),nn.InstanceNorm3d(32),nn.ReLU(inplace=True),\\\n",
    "                                 nn.Conv3d(32,3,1))\n",
    "    def forward(self, x):\n",
    "        y = []\n",
    "        upsample = nn.Upsample(scale_factor=2,mode='trilinear')\n",
    "        for i in range(4):\n",
    "            x = self.encoder['enc'+str(i+1)](x)\n",
    "            if(i<3):\n",
    "                y.append(x)\n",
    "                x = F.max_pool3d(x,2) \n",
    "        for i in range(3):\n",
    "            #if(i<3):\n",
    "            x = torch.cat((upsample(x),y.pop()),1)\n",
    "            x = self.decoder['dec'+str(i+1)](x)\n",
    "        x = self.conv1(x)\n",
    "        return upsample(self.conv2(x))\n",
    "\n",
    "unet = UNet()\n",
    "unet.cuda()\n",
    "print()\n"
   ]
  },
  {
   "cell_type": "code",
   "execution_count": 9,
   "id": "84a0c52e",
   "metadata": {},
   "outputs": [],
   "source": [
    "def predict(unet,resnet,img_fix, img_mov, keypoints_fix):\n",
    "    with torch.no_grad():\n",
    "        with torch.cuda.amp.autocast():\n",
    "            resnet.eval()\n",
    "            input = torch.cat((resnet(img_fix),resnet(img_mov)),1).cuda()\n",
    "            output = unet(input)\n",
    "            pred_xyz = F.grid_sample(output,keypoints_fix.cuda().view(1,-1,1,1,3),mode='bilinear').squeeze().t()\n",
    "    return pred_xyz"
   ]
  },
  {
   "cell_type": "code",
   "execution_count": 10,
   "id": "160acbdf",
   "metadata": {},
   "outputs": [
    {
     "data": {
      "application/vnd.jupyter.widget-view+json": {
       "model_id": "ebd57aef10ae41aeb9c4382ab21f6bfc",
       "version_major": 2,
       "version_minor": 0
      },
      "text/plain": [
       "  0%|          | 0/1000 [00:00<?, ?it/s]"
      ]
     },
     "metadata": {},
     "output_type": "display_data"
    },
    {
     "name": "stderr",
     "output_type": "stream",
     "text": [
      "/share/data_supergrover1/grossbroehmer/miniconda3/envs/nnunet/lib/python3.10/site-packages/torch/optim/lr_scheduler.py:131: UserWarning: Detected call of `lr_scheduler.step()` before `optimizer.step()`. In PyTorch 1.1.0 and later, you should call them in the opposite order: `optimizer.step()` before `lr_scheduler.step()`.  Failure to do this will result in PyTorch skipping the first value of the learning rate schedule. See more details at https://pytorch.org/docs/stable/optim.html#how-to-adjust-learning-rate\n",
      "  warnings.warn(\"Detected call of `lr_scheduler.step()` before `optimizer.step()`. \"\n",
      "/share/data_supergrover1/grossbroehmer/miniconda3/envs/nnunet/lib/python3.10/site-packages/torch/nn/functional.py:4193: UserWarning: Default grid_sample and affine_grid behavior has changed to align_corners=False since 1.3.0. Please specify align_corners=True if the old behavior is desired. See the documentation of grid_sample for details.\n",
      "  warnings.warn(\n"
     ]
    }
   ],
   "source": [
    "idx_train = torch.arange(90)\n",
    "\n",
    "H,W,D = NLST_dataset.get_shape()\n",
    "\n",
    "#single evaluation\n",
    "img_val_fix, img_val_mov, kpt_val_fix, kpt_val_mov = NLST_dataset[95]\n",
    "img_val_fix=img_val_fix.float().cuda().view(1,1,H,W,D)\n",
    "img_val_mov=img_val_mov.float().cuda().view(1,1,H,W,D)\n",
    "\n",
    "optimizer = torch.optim.Adam(list(unet.parameters())+list(resnet.parameters()),lr=0.001)\n",
    "scaler = torch.cuda.amp.GradScaler()\n",
    "scheduler = torch.optim.lr_scheduler.StepLR(optimizer,250,0.5)\n",
    "t0 = time.time()\n",
    "run_tre = torch.empty(0,2)\n",
    "run_loss = torch.zeros(1000)\n",
    "batchsz=4\n",
    "\n",
    "\n",
    "with tqdm(total=1000, file=sys.stdout) as pbar:\n",
    "    for i in range(1000):\n",
    "        ii = idx_train[torch.randperm(len(idx_train))[:4]]\n",
    "        \n",
    "        img_fix = img_all_fix[ii].cuda().half()\n",
    "        img_mov = img_all_mov[ii].cuda().half()\n",
    "        resnet.train()\n",
    "        scheduler.step()\n",
    "        optimizer.zero_grad()\n",
    "        \n",
    "        with torch.cuda.amp.autocast():\n",
    "            input = torch.cat((resnet(img_fix),resnet(img_mov)),1).cuda()\n",
    "            output = unet(input)\n",
    "            loss = 0\n",
    "            for j in range(4):\n",
    "                keypts_fix = kpts_all_fix[int(ii[j])].cuda()\n",
    "                keypts_mov = kpts_all_mov[int(ii[j])].cuda()\n",
    "                disp_gt = keypts_mov-keypts_fix\n",
    "\n",
    "                sample_xyz = kpts_all_fix[int(ii[j])].half()\n",
    "                pred_xyz = F.grid_sample(output[j:j+1],sample_xyz.cuda().view(1,-1,1,1,3),mode='bilinear').squeeze().t()\n",
    "                loss += nn.MSELoss()(pred_xyz,disp_gt)\n",
    "\n",
    "        scaler.scale(loss).backward()\n",
    "        scaler.step(optimizer)\n",
    "        scaler.update()\n",
    "        run_loss[i] = loss.item()\n",
    "        run_mean = 1000*run_loss[i-20:i].mean().item()\n",
    "        \n",
    "        #validate TRE\n",
    "        if(i%5==4):\n",
    "            \n",
    "            disp_gt = (kpt_val_mov-kpt_val_fix).cuda()\n",
    "            tre0 = disp_gt.mul(torch.tensor([H,W,D]).view(1,3).cuda()).pow(2).sum(1).sqrt().mean().item()*1.5\n",
    "            pred_xyz = predict(unet,resnet,img_val_fix,img_val_mov,kpt_val_fix.half())\n",
    "            tre1 = (disp_gt-pred_xyz).cpu().mul(torch.tensor([H,W,D]).view(1,3)).pow(2).sum(1).sqrt().mean().item()*1.5\n",
    "            \n",
    "            run_tre = torch.cat((run_tre,torch.tensor([tre0,tre1]).view(1,2)),0)\n",
    "        tre_mean = run_tre[-6:].mean(0)\n",
    "        \n",
    "        str1 = f\"iter: {i}, loss: {run_mean:.3f}, tre0: {tre_mean[0]:.3f}, tre1: {tre_mean[1]:.3f}\"\n",
    "        pbar.set_description(str1)\n",
    "        pbar.update(1)\n"
   ]
  },
  {
   "cell_type": "code",
   "execution_count": 11,
   "id": "abc34ec8",
   "metadata": {},
   "outputs": [
    {
     "name": "stdout",
     "output_type": "stream",
     "text": [
      "\n"
     ]
    }
   ],
   "source": [
    "\n",
    "unet.cpu()\n",
    "torch.save(unet,'NLST_Example_unet_trained.pth')\n",
    "resnet.cpu()\n",
    "torch.save(resnet,'NLST_Example_resnet_trained.pth')\n",
    "resnet.cuda()\n",
    "unet.cuda()\n",
    "print()"
   ]
  },
  {
   "cell_type": "code",
   "execution_count": 12,
   "id": "2a4e122d",
   "metadata": {},
   "outputs": [
    {
     "data": {
      "image/png": "[encoded data removed]",
      "text/plain": [
       "<Figure size 432x288 with 1 Axes>"
      ]
     },
     "metadata": {
      "needs_background": "light"
     },
     "output_type": "display_data"
    },
    {
     "data": {
      "image/png": "[encoded data removed]",
      "text/plain": [
       "<Figure size 432x288 with 1 Axes>"
      ]
     },
     "metadata": {
      "needs_background": "light"
     },
     "output_type": "display_data"
    }
   ],
   "source": [
    "import matplotlib.pyplot as plt\n",
    "plt.semilogy(1000*F.avg_pool1d(F.avg_pool1d(run_loss.view(1,1,-1),21,stride=1),21,stride=1).squeeze())\n",
    "plt.show()\n",
    "plt.plot(F.avg_pool1d(F.avg_pool1d(run_tre[:,1].view(1,1,-1),11,stride=1),11,stride=1).squeeze())\n",
    "plt.show()"
   ]
  }
 ],
 "metadata": {
  "interpreter": {
   "hash": "8ea9f0d30abf61677a25ad12401e4e23082d5add844bfb861bed0be870feaf59"
  },
  "kernelspec": {
   "display_name": "Python 3 (ipykernel)",
   "language": "python",
   "name": "python3"
  },
  "language_info": {
   "codemirror_mode": {
    "name": "ipython",
    "version": 3
   },
   "file_extension": ".py",
   "mimetype": "text/x-python",
   "name": "python",
   "nbconvert_exporter": "python",
   "pygments_lexer": "ipython3",
   "version": "3.10.4"
  }
 },
 "nbformat": 4,
 "nbformat_minor": 5
}
