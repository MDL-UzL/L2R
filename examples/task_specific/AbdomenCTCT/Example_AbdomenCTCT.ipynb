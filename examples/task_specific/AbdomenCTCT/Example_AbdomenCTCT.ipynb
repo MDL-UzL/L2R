{
 "cells": [
  {
   "cell_type": "code",
   "execution_count": 1,
   "id": "0c385723",
   "metadata": {},
   "outputs": [
    {
     "name": "stderr",
     "output_type": "stream",
     "text": [
      "/share/data_supergrover1/grossbroehmer/miniconda3/envs/nnunet/lib/python3.10/site-packages/requests/__init__.py:102: RequestsDependencyWarning: urllib3 (1.26.9) or chardet (5.0.0)/charset_normalizer (2.0.4) doesn't match a supported version!\n",
      "  warnings.warn(\"urllib3 ({}) or chardet ({})/charset_normalizer ({}) doesn't match a supported \"\n"
     ]
    }
   ],
   "source": [
    "import torch\n",
    "import torch.nn as nn\n",
    "import torch.nn.functional as F\n",
    "import numpy as np\n",
    "import os\n",
    "import json\n",
    "import nibabel as nib\n",
    "import time\n",
    "\n",
    "import sys\n",
    "from tqdm.notebook import tqdm\n",
    "\n",
    "import os"
   ]
  },
  {
   "cell_type": "code",
   "execution_count": 2,
   "id": "323b9159",
   "metadata": {},
   "outputs": [
    {
     "name": "stdout",
     "output_type": "stream",
     "text": [
      "Training: 20 ; Validation 10\n",
      "training data loaded in 11.25 s\n",
      "validaion data loaded in 3.69 s\n"
     ]
    }
   ],
   "source": [
    "##preload data\n",
    "\n",
    "data_path='../../Learn2Reg_Dataset_release_v1.0/AbdomenCTCT/'\n",
    "with open(os.path.join(data_path,'AbdomenCTCT_dataset.json')) as f:\n",
    "    dataset_info=json.load(f)\n",
    "\n",
    "val_list=sorted(list(set([x['fixed'] for x in dataset_info['registration_val']] \n",
    "              + [x['moving'] for x in dataset_info['registration_val']])))\n",
    "validation_ = dataset_info['registration_val']\n",
    "training_ = [x for x in dataset_info['training'] if x['image'] not in val_list]\n",
    "H,W,D = dataset_info['tensorImageShape']['0']\n",
    "num_val=len(val_list); num_train=len(training_)\n",
    "print('Training:',len(training_),'; Validation',len(val_list))\n",
    "\n",
    "\n",
    "##trainig:\n",
    "label_all = torch.zeros(num_train,14,H//2,W//2,D//2).pin_memory()\n",
    "img_all = torch.zeros(num_train,1,H//2,W//2,D//2).pin_memory()\n",
    "seg_all = torch.zeros(num_train,H,W,D).long()\n",
    "t0=time.time()\n",
    "for ii,i in enumerate(training_):\n",
    "    label_all[ii] = F.avg_pool3d(F.one_hot(torch.from_numpy(nib.load(os.path.join(data_path,i['label'])).get_fdata()).long().cuda(),14).permute(3,0,1,2).float().unsqueeze(0),2).cpu()\n",
    "    seg_all[ii] = torch.from_numpy(nib.load(os.path.join(data_path,i['label'])).get_fdata()).long()\n",
    "    img_all[ii] = F.avg_pool3d(torch.from_numpy(nib.load(os.path.join(data_path,i['image'])).get_fdata()).float().cuda().unsqueeze(0).unsqueeze(0)/500,2).cpu()\n",
    "t1 = time.time()\n",
    "print('training data loaded in %.2f s' % (t1-t0))\n",
    "\n",
    "##validation\n",
    "seg_val = torch.zeros(num_val,H,W,D).long().pin_memory()\n",
    "img_val = torch.zeros(num_val,1,H//2,W//2,D//2).pin_memory()\n",
    "t0 = time.time()\n",
    "for ii,i in enumerate(val_list):\n",
    "    seg_val[ii] = torch.from_numpy(nib.load(os.path.join(data_path,i.replace('image','label'))).get_fdata()).long()\n",
    "    img_val[ii] = F.avg_pool3d(torch.from_numpy(nib.load(os.path.join(data_path,i)).get_fdata()).float().cuda().unsqueeze(0).unsqueeze(0)/500,2).cpu()\n",
    "t1 = time.time()\n",
    "print('validaion data loaded in %.2f s' % (t1-t0))\n",
    "\n"
   ]
  },
  {
   "cell_type": "code",
   "execution_count": 3,
   "id": "d5f2c571",
   "metadata": {},
   "outputs": [
    {
     "name": "stdout",
     "output_type": "stream",
     "text": [
      "\n"
     ]
    }
   ],
   "source": [
    "### functions \n",
    "def jacobian_determinant_3d(dense_flow):\n",
    "    B,_,H,W,D = dense_flow.size()\n",
    "    \n",
    "    dense_pix = dense_flow*(torch.Tensor([H-1,W-1,D-1])/2).view(1,3,1,1,1).to(dense_flow.device)\n",
    "    gradz = nn.Conv3d(3,3,(3,1,1),padding=(1,0,0),bias=False,groups=3)\n",
    "    gradz.weight.data[:,0,:,0,0] = torch.tensor([-0.5,0,0.5]).view(1,3).repeat(3,1)\n",
    "    gradz.to(dense_flow.device)\n",
    "    grady = nn.Conv3d(3,3,(1,3,1),padding=(0,1,0),bias=False,groups=3)\n",
    "    grady.weight.data[:,0,0,:,0] = torch.tensor([-0.5,0,0.5]).view(1,3).repeat(3,1)\n",
    "    grady.to(dense_flow.device)\n",
    "    gradx = nn.Conv3d(3,3,(1,1,3),padding=(0,0,1),bias=False,groups=3)\n",
    "    gradx.weight.data[:,0,0,0,:] = torch.tensor([-0.5,0,0.5]).view(1,3).repeat(3,1)\n",
    "    gradx.to(dense_flow.device)\n",
    "    #with torch.no_grad():\n",
    "    jacobian = torch.cat((gradz(dense_pix),grady(dense_pix),gradx(dense_pix)),0)+torch.eye(3,3).view(3,3,1,1,1).to(dense_flow.device)\n",
    "    jacobian = jacobian[:,:,2:-2,2:-2,2:-2]\n",
    "    jac_det = jacobian[0,0,:,:,:]*(jacobian[1,1,:,:,:]*jacobian[2,2,:,:,:]-jacobian[1,2,:,:,:]*jacobian[2,1,:,:,:])-\\\n",
    "    jacobian[1,0,:,:,:]*(jacobian[0,1,:,:,:]*jacobian[2,2,:,:,:]-jacobian[0,2,:,:,:]*jacobian[2,1,:,:,:])+\\\n",
    "    jacobian[2,0,:,:,:]*(jacobian[0,1,:,:,:]*jacobian[1,2,:,:,:]-jacobian[0,2,:,:,:]*jacobian[1,1,:,:,:])\n",
    "\n",
    "    return jac_det\n",
    "\n",
    "def dice_coeff(outputs, labels, max_label):\n",
    "    dice = torch.FloatTensor(max_label-1).fill_(0)\n",
    "    for label_num in range(1, max_label):\n",
    "        iflat = (outputs==label_num).view(-1).float()\n",
    "        tflat = (labels==label_num).view(-1).float()\n",
    "        intersection = torch.mean(iflat * tflat)\n",
    "        dice[label_num-1] = (2. * intersection) / (1e-8 + torch.mean(iflat) + torch.mean(tflat))\n",
    "    return dice\n",
    "\n",
    "class ConvBlock(nn.Module):\n",
    "    def __init__(self, in_channels, out_channels):\n",
    "        super().__init__()\n",
    "        self.conv1 = nn.Sequential(nn.Conv3d(in_channels,out_channels,3,padding=1,bias=False),\\\n",
    "                                   nn.BatchNorm3d(out_channels),nn.PReLU())\n",
    "        self.conv2 = nn.Sequential(nn.Conv3d(out_channels,out_channels,1,bias=False),\\\n",
    "                                   nn.BatchNorm3d(out_channels),nn.PReLU())\n",
    "\n",
    "    def forward(self, x):\n",
    "        x = self.conv1(x)\n",
    "        return self.conv2(x)\n",
    "    \n",
    "base_ch = 16\n",
    "class UNet(nn.Module):\n",
    "    def __init__(self):\n",
    "        super().__init__()\n",
    "        self.encoder = nn.ModuleDict({'enc1':ConvBlock(28,base_ch*2),'enc2':ConvBlock(base_ch*2,base_ch*3),\\\n",
    "                                      'enc3':ConvBlock(base_ch*3,base_ch*3),'enc4':ConvBlock(base_ch*3,base_ch*4)})\n",
    "        self.decoder = nn.ModuleDict({'dec1':ConvBlock(base_ch*7,base_ch*3),\\\n",
    "                                      'dec2':ConvBlock(base_ch*6,base_ch*3),'dec3':ConvBlock(base_ch*5,base_ch*2)})\n",
    "        self.conv1 = ConvBlock(base_ch*2,base_ch*4)\n",
    "        self.conv2 = nn.Sequential(nn.Conv3d(base_ch*4,base_ch*2,1,bias=False),nn.BatchNorm3d(base_ch*2),nn.PReLU(),\\\n",
    "                                 nn.Conv3d(base_ch*2,base_ch*2,1,bias=False),nn.BatchNorm3d(base_ch*2),nn.PReLU(),\\\n",
    "                                 nn.Conv3d(base_ch*2,3,1))\n",
    "    def forward(self, x):\n",
    "        y = []\n",
    "        upsample = nn.Upsample(scale_factor=2,mode='trilinear')\n",
    "        for i in range(4):\n",
    "            x = self.encoder['enc'+str(i+1)](x)\n",
    "            if(i<3):\n",
    "                y.append(x)\n",
    "                x = F.max_pool3d(x,2) \n",
    "        for i in range(3):\n",
    "            x = torch.cat((upsample(x),y.pop()),1)\n",
    "            x = self.decoder['dec'+str(i+1)](x)\n",
    "        x = self.conv1(x)\n",
    "        return F.avg_pool3d(F.avg_pool3d(upsample(self.conv2(x)),5,stride=1,padding=2),5,stride=1,padding=2)\n",
    "    \n",
    "class UNet2(nn.Module):\n",
    "    def __init__(self):\n",
    "        super().__init__()\n",
    "        self.encoder = nn.ModuleDict({'enc1':ConvBlock(1,base_ch*2),'enc2':ConvBlock(base_ch*2,base_ch*3),\\\n",
    "                                      'enc3':ConvBlock(base_ch*3,base_ch*3),'enc4':ConvBlock(base_ch*3,base_ch*4),\\\n",
    "                                      'enc5':ConvBlock(base_ch*4,base_ch*4)})\n",
    "        self.decoder = nn.ModuleDict({'dec1':ConvBlock(base_ch*8,base_ch*3),'dec2':ConvBlock(base_ch*6,base_ch*3),\\\n",
    "                                      'dec3':ConvBlock(base_ch*6,base_ch*3),'dec4':ConvBlock(base_ch*3,base_ch*2)})\n",
    "        self.conv1 = ConvBlock(base_ch*2,base_ch*4)\n",
    "        self.conv2 = nn.Sequential(nn.Conv3d(base_ch*4,base_ch*2,1,bias=False),nn.BatchNorm3d(base_ch*2),nn.PReLU(),\\\n",
    "                                 nn.Conv3d(base_ch*2,base_ch*2,1,bias=False),nn.BatchNorm3d(base_ch*2),nn.PReLU(),\\\n",
    "                                 nn.Conv3d(base_ch*2,14,1))\n",
    "        self.final = nn.Identity()\n",
    "    def forward(self, x):\n",
    "        y = []\n",
    "        upsample = nn.Upsample(scale_factor=2,mode='trilinear')\n",
    "        for i in range(5):\n",
    "            x = self.encoder['enc'+str(i+1)](x)\n",
    "            if(i<4):\n",
    "                y.append(x)\n",
    "                x = F.max_pool3d(x,2) \n",
    "        for i in range(4):\n",
    "            if(i<3):\n",
    "                x = torch.cat((upsample(x),y.pop()),1)\n",
    "            x = self.decoder['dec'+str(i+1)](x)\n",
    "        x = self.conv1(x)\n",
    "        x = self.conv2(x)\n",
    "        return self.final(x)\n",
    "\n",
    "resnet = UNet2()\n",
    "resnet.cuda()\n",
    "print()"
   ]
  },
  {
   "cell_type": "code",
   "execution_count": 4,
   "id": "f237270d",
   "metadata": {},
   "outputs": [
    {
     "data": {
      "application/vnd.jupyter.widget-view+json": {
       "model_id": "ca53fed6679b4bbeb3c15944a3e034d6",
       "version_major": 2,
       "version_minor": 0
      },
      "text/plain": [
       "  0%|          | 0/1500 [00:00<?, ?it/s]"
      ]
     },
     "metadata": {},
     "output_type": "display_data"
    }
   ],
   "source": [
    "\n",
    "\n",
    "##Segementation pre-training\n",
    "resnet.cuda()\n",
    "num_iterations = 1500\n",
    "\n",
    "optimizer = torch.optim.Adam(resnet.parameters(),lr=0.001)\n",
    "run_loss = torch.zeros(num_iterations)\n",
    "t0 = time.time()\n",
    "scheduler = torch.optim.lr_scheduler.CosineAnnealingWarmRestarts(optimizer,num_iterations//3,2)\n",
    "scaler = torch.cuda.amp.GradScaler()\n",
    "\n",
    "weight = torch.bincount(seg_all.long().reshape(-1)).float().pow(-.35).cuda()\n",
    "weight /= weight.mean() \n",
    "\n",
    "idx_rand = torch.randperm(seg_all.shape[0])\n",
    "idx_train = idx_rand[:3*seg_all.shape[0]//4]\n",
    "with tqdm(total=num_iterations, file=sys.stdout) as pbar:\n",
    "\n",
    "\n",
    "    for i in range(num_iterations):\n",
    "        idx = idx_train[torch.randperm(len(idx_train))][:2]\n",
    "        optimizer.zero_grad()\n",
    "        with torch.cuda.amp.autocast():\n",
    "            affine_matrix = (0.07*torch.randn(2,3,4)+torch.eye(3,4).unsqueeze(0)).cuda()\n",
    "            augment_grid = F.affine_grid(affine_matrix,(2,1,H,W,D),align_corners=False)\n",
    "            input = F.grid_sample(img_all[idx].cuda(),augment_grid,align_corners=False)\n",
    "            target = F.grid_sample(seg_all[idx].cuda().unsqueeze(1).float(),\\\n",
    "                                   augment_grid,mode='nearest',align_corners=False).squeeze(1).long()\n",
    "            output = nn.Upsample(scale_factor=4,mode='trilinear')(resnet(F.avg_pool3d(input,2))[:,:14])\n",
    "            loss = nn.CrossEntropyLoss(weight)(output,target)\n",
    "        scaler.scale(loss).backward()\n",
    "        scaler.step(optimizer)\n",
    "        scaler.update()\n",
    "        scheduler.step()\n",
    "        run_loss[i] = loss.item()\n",
    "        str1 = f\"iter: {i}, loss: {'%0.3f'%(run_loss[i-28:i-1].mean())}, runtime: {'%0.3f'%(time.time()-t0)} sec, GPU max/memory: {'%0.2f'%(torch.cuda.max_memory_allocated()*1e-9)} GByte\"\n",
    "        pbar.set_description(str1)\n",
    "        pbar.update(1)"
   ]
  },
  {
   "cell_type": "code",
   "execution_count": 5,
   "id": "b44f4942",
   "metadata": {},
   "outputs": [],
   "source": [
    "##save segementation network\n",
    "torch.save(resnet.cpu().state_dict(),'AbdomenCTCT_example_segmentation.pth')\n",
    "resnet.eval()\n",
    "resnet.cpu()\n",
    "resnet.load_state_dict(torch.load('AbdomenCTCT_example_segmentation.pth'))\n",
    "torch.cuda.empty_cache()"
   ]
  },
  {
   "cell_type": "code",
   "execution_count": 6,
   "id": "3e1c9054",
   "metadata": {},
   "outputs": [
    {
     "name": "stdout",
     "output_type": "stream",
     "text": [
      "0\n"
     ]
    },
    {
     "data": {
      "application/vnd.jupyter.widget-view+json": {
       "model_id": "2dfa9e1b0aa4416f9c908a1313d0dcb0",
       "version_major": 2,
       "version_minor": 0
      },
      "text/plain": [
       "  0%|          | 0/2100 [00:00<?, ?it/s]"
      ]
     },
     "metadata": {},
     "output_type": "display_data"
    },
    {
     "name": "stderr",
     "output_type": "stream",
     "text": [
      "/share/data_supergrover1/grossbroehmer/miniconda3/envs/nnunet/lib/python3.10/site-packages/torch/nn/functional.py:4255: UserWarning: Default grid_sample and affine_grid behavior has changed to align_corners=False since 1.3.0. Please specify align_corners=True if the old behavior is desired. See the documentation of grid_sample for details.\n",
      "  warnings.warn(\n",
      "/share/data_supergrover1/grossbroehmer/miniconda3/envs/nnunet/lib/python3.10/site-packages/torch/optim/lr_scheduler.py:131: UserWarning: Detected call of `lr_scheduler.step()` before `optimizer.step()`. In PyTorch 1.1.0 and later, you should call them in the opposite order: `optimizer.step()` before `lr_scheduler.step()`.  Failure to do this will result in PyTorch skipping the first value of the learning rate schedule. See more details at https://pytorch.org/docs/stable/optim.html#how-to-adjust-learning-rate\n",
      "  warnings.warn(\"Detected call of `lr_scheduler.step()` before `optimizer.step()`. \"\n",
      "/share/data_supergrover1/grossbroehmer/miniconda3/envs/nnunet/lib/python3.10/site-packages/torch/nn/functional.py:4193: UserWarning: Default grid_sample and affine_grid behavior has changed to align_corners=False since 1.3.0. Please specify align_corners=True if the old behavior is desired. See the documentation of grid_sample for details.\n",
      "  warnings.warn(\n"
     ]
    },
    {
     "name": "stdout",
     "output_type": "stream",
     "text": [
      "1\n"
     ]
    },
    {
     "data": {
      "application/vnd.jupyter.widget-view+json": {
       "model_id": "0ca3ec1b4a774aca9f0692a9d06017a1",
       "version_major": 2,
       "version_minor": 0
      },
      "text/plain": [
       "  0%|          | 0/4500 [00:00<?, ?it/s]"
      ]
     },
     "metadata": {},
     "output_type": "display_data"
    }
   ],
   "source": [
    "#### Training registration network\n",
    "#the whole registration network with label-loss is trained in two stages: \n",
    "#    First the feature extractor is kept as a segmentation network (with softmax output, here 14-channels). \n",
    "#    Second everything is trained end-to-end using affine augmentation.\n",
    "\n",
    "unet = UNet()\n",
    "unet.cuda()\n",
    "\n",
    "resnet.final = nn.Softmax(1)\n",
    "resnet.train()\n",
    "resnet.cuda()\n",
    "for repeat in range(2):\n",
    "    print(repeat)\n",
    "    \n",
    "    if(repeat==0):\n",
    "        optimizer = torch.optim.Adam(list(unet.parameters()),lr=0.001)\n",
    "        num_iterations = 2100\n",
    "        ramp = 750\n",
    "\n",
    "    if(repeat==1):#for end to end training we remove the softmax and adjust the channel numbers\n",
    "        resnet.final = nn.Identity()\n",
    "        resnet.conv2[-1] = nn.Conv3d(base_ch*2,base_ch*2,1).cuda()\n",
    "        unet.encoder['enc1'].conv1[0] = nn.Conv3d(base_ch*4,base_ch*2,3,padding=1,bias=False).cuda()\n",
    "        optimizer = torch.optim.Adam(list(resnet.parameters())+list(unet.parameters()),lr=0.0015)\n",
    "        num_iterations = 4500\n",
    "        ramp = 250\n",
    "\n",
    "\n",
    "    scaler = torch.cuda.amp.GradScaler()\n",
    "\n",
    "\n",
    "    scheduler = torch.optim.lr_scheduler.StepLR(optimizer,num_iterations//3,0.5)\n",
    "    t0 = time.time()\n",
    "    run_dice = torch.empty(0)\n",
    "    run_val = torch.empty(0)\n",
    "    run_stdj = torch.empty(0)\n",
    "    run_loss = torch.zeros(num_iterations)\n",
    "    with tqdm(total=num_iterations, file=sys.stdout) as pbar:\n",
    "        for i in range(num_iterations):\n",
    "\n",
    "            idx_train = torch.arange(20)\n",
    "\n",
    "            scale_affine = 0.04\n",
    "            if(i<ramp):\n",
    "                scale_affine = 0\n",
    "            affine = torch.eye(3,4).unsqueeze(0).cuda()+torch.randn(4,3,4).cuda()*scale_affine\n",
    "            affine2 = F.affine_grid(affine,(4,1,H//2,W//2,D//2))\n",
    "\n",
    "\n",
    "            ii = idx_train[torch.randperm(len(idx_train))[:4]].view(2,2)\n",
    "            \n",
    "            resnet.train()\n",
    "            scheduler.step()\n",
    "            optimizer.zero_grad()\n",
    "\n",
    "            with torch.cuda.amp.autocast():\n",
    "                with torch.no_grad():\n",
    "                    img_fix = F.grid_sample(img_all[ii[0]].cuda().half(),affine2[:2])\n",
    "                    img_mov = F.grid_sample(img_all[ii[1]].cuda().half(),affine2[2:])\n",
    "                    label_fix = F.grid_sample(label_all[ii[0]].cuda(),affine2[:2],padding_mode='border')\n",
    "                    label_mov = F.grid_sample(label_all[ii[1]].cuda(),affine2[2:],padding_mode='border')\n",
    "\n",
    "                with torch.set_grad_enabled(repeat!=0):\n",
    "                    feat = resnet(torch.cat((img_fix,img_mov),0))\n",
    "\n",
    "                input = torch.cat((feat[:2],feat[2:4]),1)\n",
    "\n",
    "                output = unet(input)\n",
    "                warped = F.grid_sample(label_mov,F.affine_grid(torch.eye(3,4).unsqueeze(0).cuda().repeat(2,1,1),(2,1,H//2,W//2,D//2))+output.permute(0,2,3,4,1),padding_mode='border')\n",
    "\n",
    "                loss = nn.MSELoss()(label_fix,warped)\n",
    "\n",
    "                scale = 2\n",
    "                if(i<ramp): #ramp-up required to stabilise training\n",
    "                    scale = 20\n",
    "                loss += scale*nn.MSELoss()(output,F.avg_pool3d(F.avg_pool3d(output,5,stride=1,padding=2),5,stride=1,padding=2))\n",
    "\n",
    "                \n",
    "            scaler.scale(loss).backward()\n",
    "            scaler.step(optimizer)\n",
    "            scaler.update()\n",
    "            run_loss[i] = loss.item()\n",
    "            run_mean = 1000*run_loss[i-20:i].mean().item()\n",
    "            \n",
    "            #evaluation for training and test scan pair\n",
    "            if(i%5==4):\n",
    "                unet.eval()\n",
    "                resnet.eval()\n",
    "                with torch.no_grad():\n",
    "                    with torch.cuda.amp.autocast():\n",
    "                        feat = resnet(torch.cat((img_all[13:14].cuda(),img_all[14:15].cuda()),0))\n",
    "                        input = torch.cat((feat[:1],feat[1:2]),1).cuda()\n",
    "\n",
    "                        output = F.interpolate(unet(input),scale_factor=2,mode='trilinear')\n",
    "                    seg_warped = F.grid_sample(seg_all[14:15].unsqueeze(1).float().contiguous().cuda(),output.permute(0,2,3,4,1)+F.affine_grid(torch.eye(3,4).unsqueeze(0).cuda(),(1,1,H,W,D)),mode='nearest')\n",
    "                    jac_det = jacobian_determinant_3d(output[:1])\n",
    "                d1 = dice_coeff(seg_all[13].cuda().contiguous(),seg_warped.contiguous().squeeze().long(),14).cpu()\n",
    "                with torch.no_grad():\n",
    "                    with torch.cuda.amp.autocast():\n",
    "                        feat = resnet(torch.cat((img_val[8:9].cuda(),img_val[9:10].cuda()),0))\n",
    "                        input = torch.cat((feat[:1],feat[1:2]),1).cuda()\n",
    "\n",
    "                        output = F.interpolate(unet(input),scale_factor=2,mode='trilinear')\n",
    "                    seg_warped = F.grid_sample(seg_val[9:10].unsqueeze(1).float().contiguous().cuda(),output.permute(0,2,3,4,1)+F.affine_grid(torch.eye(3,4).unsqueeze(0).cuda(),(1,1,H,W,D)),mode='nearest')\n",
    "                    jac_det = jacobian_determinant_3d(output[:1])\n",
    "                d1_val = dice_coeff(seg_val[8].cuda().contiguous(),seg_warped.contiguous().squeeze().long(),14).cpu()\n",
    "                unet.train()\n",
    "                resnet.train()\n",
    "                run_stdj = torch.cat((run_stdj,torch.tensor([jac_det.std()])),0)\n",
    "                run_dice = torch.cat((run_dice,torch.tensor([d1.mean()])),0)\n",
    "                run_val = torch.cat((run_val,torch.tensor([d1_val.mean()])),0)\n",
    "            dice_mean = 100*run_dice[-6:].mean()\n",
    "            val_mean = 100*run_val[-6:].mean()\n",
    "\n",
    "            stdj_mean = run_stdj[-6:].mean()\n",
    "\n",
    "\n",
    "            str1 = f\"iter: {i}, loss: {run_mean:.3f}, dice: {dice_mean:.3f}, dice_val: {val_mean:.3f}, stdj: {stdj_mean:.3f}\"\n",
    "            pbar.set_description(str1)\n",
    "            pbar.update(1)"
   ]
  },
  {
   "cell_type": "code",
   "execution_count": 7,
   "id": "3b437ab5",
   "metadata": {},
   "outputs": [
    {
     "data": {
      "image/png": "[encoded data removed]",
      "text/plain": [
       "<Figure size 432x288 with 1 Axes>"
      ]
     },
     "metadata": {
      "needs_background": "light"
     },
     "output_type": "display_data"
    }
   ],
   "source": [
    "import matplotlib.pyplot as plt\n",
    "plt.plot(run_dice)\n",
    "plt.plot(run_val)\n",
    "unet.cpu()\n",
    "resnet.cpu()\n",
    "torch.save({'unet':unet.state_dict(),'resnet':resnet.state_dict()},'AbdomenCTCT_example_complete.pth')"
   ]
  },
  {
   "cell_type": "code",
   "execution_count": null,
   "id": "8023a9e2",
   "metadata": {},
   "outputs": [],
   "source": []
  }
 ],
 "metadata": {
  "interpreter": {
   "hash": "8ea9f0d30abf61677a25ad12401e4e23082d5add844bfb861bed0be870feaf59"
  },
  "kernelspec": {
   "display_name": "Python 3 (ipykernel)",
   "language": "python",
   "name": "python3"
  },
  "language_info": {
   "codemirror_mode": {
    "name": "ipython",
    "version": 3
   },
   "file_extension": ".py",
   "mimetype": "text/x-python",
   "name": "python",
   "nbconvert_exporter": "python",
   "pygments_lexer": "ipython3",
   "version": "3.10.4"
  }
 },
 "nbformat": 4,
 "nbformat_minor": 5
}
