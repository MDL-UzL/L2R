{
 "cells": [
  {
   "cell_type": "code",
   "execution_count": 1,
   "metadata": {},
   "outputs": [],
   "source": [
    "import numpy as np\n",
    "from pathlib import Path\n",
    "from ranking_utils import scores_better, rankscore_avgtie, greaters, r_names\n",
    "import pandas as pd\n",
    "\n",
    "##load data if not present\n",
    "\n",
    "results_dir = Path(Path.cwd(),'L2R_Continous_NPY') ##\n",
    "if not results_dir.exists():\n",
    "    ##load and extract data\n",
    "    !wget https://cloud.imi.uni-luebeck.de/s/cw2m7XHa87piQY2/download -O L2R_Continous_NPY.zip\n",
    "    !unzip L2R_Continous_NPY.zip\n",
    "    \n",
    "num_labels = 35\n",
    "num_cases = 38\n",
    "task_name = 'OASIS' ##discard 2020_MICCAI results\n",
    "\n",
    "discard_events = ['2020_MICCAI'] #eg. ['2020_MICCAI', '2022_2023_Continous']\n",
    "discard_teams = ['2021_MICCAI/LapIRN(unsupervised)'] #eg. ['2020_MICCAI/Initial', '2022_2023_Continous/Initial']\n",
    "                 "
   ]
  },
  {
   "cell_type": "code",
   "execution_count": 2,
   "metadata": {},
   "outputs": [],
   "source": [
    "\n",
    "results_paths = sorted([x.parent for x in results_dir.glob(f'*/*/{task_name}_dice.npy') if x.is_file()])\n",
    "\n",
    "###apply filters\n",
    "results_paths = list(filter(lambda x: x.parent.name not in discard_events and x.parent.name+'/'+x.name not in discard_teams, results_paths))\n",
    "###move initial to front\n",
    "initial_index = [i for i, s in enumerate(results_paths) if s.name == 'Initial'][0]\n",
    "results_paths.insert(0, results_paths.pop(initial_index))\n",
    "\n",
    "#print(*results_paths, sep = \"\\n\")\n",
    "events, unique_teams = [x.parent.name for x in results_paths],[x.name for x in results_paths]\n",
    "\n",
    "N = len(unique_teams)\n"
   ]
  },
  {
   "cell_type": "code",
   "execution_count": 3,
   "metadata": {},
   "outputs": [],
   "source": [
    "dice_3 = np.zeros((N,num_cases,num_labels))\n",
    "hd95_3 = 5*np.ones((N,num_cases,num_labels))\n",
    "sdlogj_3 = 5*np.ones((N,num_cases))\n",
    "times_3 = 100*np.ones((N,num_cases))\n",
    "\n",
    "for i, r_path in enumerate(results_paths):\n",
    "    team = r_names(r_path.name)\n",
    "    if Path ( r_path / f'{task_name}_dice.npy').is_file():\n",
    "        dice = np.load(r_path / f'{task_name}_dice.npy')\n",
    "        dice[dice != dice] = 0\n",
    "        dice_3[i,:,:] = dice\n",
    "    if Path ( r_path / f'{task_name}_hd95.npy').is_file():\n",
    "        hd95 = np.load(r_path / f'{task_name}_hd95.npy')\n",
    "        hd95[hd95 != hd95] = 10\n",
    "        hd95[hd95 == np.Inf] = 10\n",
    "        hd95_3[i,:,:] = hd95\n",
    "    if Path ( r_path / f'{task_name}_sd_log_j.npy').is_file() and not team == 'Initial':\n",
    "        sdlogj = np.load(r_path / f'{task_name}_sd_log_j.npy')\n",
    "        sdlogj_3[i,:] = sdlogj\n",
    "    else:\n",
    "        sdlogj_3[i,:] = 1.5\n",
    "        \n",
    "    if Path ( r_path / f'{task_name}_docker_runtimes.npy').is_file() and not team == 'Initial':\n",
    "        times = np.load(r_path / f'{task_name}_docker_runtimes.npy')\n",
    "        times_3[i,:] =  times\n",
    "    else:\n",
    "        times_3[i,:] = 5000\n",
    "\n",
    "    # if len (team) < 5:\n",
    "    #     tab = '\\t\\t\\t\\t'\n",
    "    # elif len (team) < 12:\n",
    "    #     tab = '\\t\\t\\t'\n",
    "    # elif len (team) < 24:\n",
    "    #     tab = '\\t\\t'\n",
    "    # else:\n",
    "    #     tab = '\\t'\n",
    "\n",
    "    # print(i, team, tab + '%0.3f' % dice.mean(), '%0.3f' % hd95.mean(), '%0.3f' % sdlogj_3[i,:].mean(),\n",
    "    #       '%0.3f' % times_3[i,:].mean())\n",
    "\n",
    "\n",
    "    \n"
   ]
  },
  {
   "cell_type": "code",
   "execution_count": 4,
   "metadata": {},
   "outputs": [],
   "source": [
    "#robustify\n",
    "dice0 = dice_3[0]  \n",
    "dice3_30 = np.zeros((N, round((num_cases*num_labels)*.3)))\n",
    "idx30 = np.argsort(dice0.reshape(-1))[:dice3_30.shape[1]]\n",
    "for i in range(N):\n",
    "    dice3_30[i] = dice_3.reshape(N,-1)[i,idx30]\n"
   ]
  },
  {
   "cell_type": "code",
   "execution_count": 5,
   "metadata": {},
   "outputs": [],
   "source": [
    "rank_all = np.zeros((N,5))\n",
    "subset = dice_3.reshape(N,-1)\n",
    "scores = scores_better(subset, N)\n",
    "rank_dice3a = rankscore_avgtie(-scores.astype('int64'))\n",
    "rank_all[:,0] = rank_dice3a\n",
    "subset = dice3_30.reshape(N,-1)\n",
    "scores = scores_better(subset, N)\n",
    "rank_dice3b = rankscore_avgtie(-scores.astype('int64'))\n",
    "rank_all[:,1] = rank_dice3b\n",
    "subset = hd95_3.reshape(N,-1)\n",
    "scores = scores_better(-subset, N)\n",
    "rank_hd3 = rankscore_avgtie(-scores.astype('int64'))\n",
    "rank_all[:,2] = rank_hd3\n",
    "subset = sdlogj_3.reshape(N,-1)\n",
    "scores = scores_better(-subset, N)\n",
    "rank_jac3 = rankscore_avgtie(-scores.astype('int64'))\n",
    "rank_all[:,3] = rank_jac3\n",
    "subset = times_3.reshape(N,-1)\n",
    "scores = scores_better(-subset, N)\n",
    "rank_time3 = rankscore_avgtie(-scores.astype('int64'))\n",
    "rank_all[:,4] = rank_time3"
   ]
  },
  {
   "cell_type": "code",
   "execution_count": 6,
   "metadata": {},
   "outputs": [],
   "source": [
    "rank3 = np.power(np.prod(rank_all[:,:],axis=1),.2)\n",
    "all_rank = np.power(np.prod(rank_all,axis=1),1/5)"
   ]
  },
  {
   "cell_type": "code",
   "execution_count": 7,
   "metadata": {},
   "outputs": [
    {
     "name": "stdout",
     "output_type": "stream",
     "text": [
      "WITHOUT RUNTIME\n",
      "# team \t\t\t Dice\t Dice30\t HD95\t  sdLogJ rank\n",
      "1 LapIRN \t\t 0.822 \t 0.664 \t 1.668   0.071   0.814\n",
      "2 JunyuChen \t\t 0.829 \t 0.675 \t 1.580   0.093   0.791\n",
      "3 ConvexAdam \t\t 0.811 \t 0.641 \t 1.629   0.070   0.763\n",
      "4 > LapIRNv2 \t\t 0.836 \t 0.690 \t 1.562   0.124   0.750\n",
      "5 BinDuan \t\t 0.820 \t 0.659 \t 1.666   0.085   0.716\n",
      "6 IWM \t\t\t 0.794 \t 0.608 \t 1.844   0.051   0.669\n",
      "7 KunTang \t\t 0.823 \t 0.666 \t 1.658   0.120   0.666\n",
      "8 YihaoLiu \t\t 0.834 \t 0.681 \t 1.658   0.234   0.651\n",
      "9 Driver \t\t 0.799 \t 0.620 \t 1.775   0.079   0.646\n",
      "10 3Idiots \t\t 0.803 \t 0.632 \t 1.819   0.082   0.622\n",
      "11 PIMed \t\t 0.783 \t 0.577 \t 1.863   0.065   0.619\n",
      "12 Winter \t\t 0.770 \t 0.571 \t 2.157   0.080   0.449\n",
      "13 MEVIS \t\t 0.769 \t 0.569 \t 2.094   0.071   0.448\n",
      "14 corrField \t\t 0.766 \t 0.567 \t 2.022   0.095   0.383\n",
      "15 Multi-Brain \t\t 0.776 \t 0.594 \t 1.921   0.569   0.348\n",
      "16 Thorley \t\t 0.769 \t 0.597 \t 2.213   0.312   0.332\n",
      "17 Imperial \t\t 0.760 \t 0.573 \t 2.433   0.189   0.309\n",
      "18 LaTIM \t\t 0.739 \t 0.515 \t 2.313   0.079   0.308\n",
      "19 NiftyReg \t\t 0.727 \t 0.508 \t 2.368   0.061   0.289\n",
      "20 TUM \t\t\t 0.671 \t 0.416 \t 2.743   0.040   0.235\n",
      "21 Initial \t\t 0.559 \t 0.274 \t 3.864   1.500   0.100\n"
     ]
    }
   ],
   "source": [
    "df = pd.DataFrame(columns=['rank','team','Dice','Dice30','HD95',' sdLogJ','rank'])\n",
    "\n",
    "rank3_withoutRUNTIME = np.power(np.prod(rank_all[:,:4],axis=1),.25)\n",
    "all_rank_withoutRUNTIME = np.power(np.prod(rank_all[:,:4],axis=1),1/4)\n",
    "idx2 = np.argsort(-all_rank_withoutRUNTIME)\n",
    "\n",
    "\n",
    "print('WITHOUT RUNTIME')\n",
    "print('#','team','\\t\\t\\t','Dice\\t','Dice30\\t','HD95\\t',' sdLogJ','rank')\n",
    "\n",
    "\n",
    "for i in range(N):\n",
    "    team = r_names(unique_teams[idx2[i]])\n",
    "    new = ''\n",
    "    if events[idx2[i]] == '2023_MICCAI':\n",
    "        new = '> '\n",
    "    tab = '\\t\\t\\t'\n",
    "    d0 = 5\n",
    "    d1 = 6\n",
    "    if(len(team)>=d0):\n",
    "        tab = '\\t\\t'\n",
    "    if(len(team)>d0+d1):\n",
    "        tab = '\\t'\n",
    "    \n",
    "    if(len(team)>=d0+d1*2):\n",
    "        tab = ''\n",
    "    #if(len(team)>=d0+d1*3):\n",
    "    #    tab = ''\n",
    "    print(i+1,new + team,tab,'%0.3f'%dice_3[idx2[i]].mean(),'\\t','%0.3f'%dice3_30[idx2[i]].mean(),'\\t','%0.3f'%hd95_3[idx2[i]].mean(),' ','%0.3f'%sdlogj_3[idx2[i]].mean(),' ','%0.3f'%rank3_withoutRUNTIME[idx2[i]])\n",
    "    df.loc[i] = [i+1,new + team,'%0.3f'%dice_3[idx2[i]].mean(),'%0.3f'%dice3_30[idx2[i]].mean(),'%0.3f'%hd95_3[idx2[i]].mean(),'%0.3f'%sdlogj_3[idx2[i]].mean(),'%0.3f'%rank3_withoutRUNTIME[idx2[i]]]\n"
   ]
  },
  {
   "cell_type": "code",
   "execution_count": 8,
   "metadata": {},
   "outputs": [
    {
     "name": "stdout",
     "output_type": "stream",
     "text": [
      "WITH RUNTIME\n",
      "# team \t\t\t Dice\t Dice30\t HD95\t  sdLogJ  runtime\t rank\n",
      "1 LapIRN \t\t 0.822 \t 0.664 \t 1.668   0.071   1.2057 \t 0.814\n",
      "2 ConvexAdam \t\t 0.811 \t 0.641 \t 1.629   0.070   3.0998 \t 0.763\n",
      "3 IWM \t\t\t 0.794 \t 0.608 \t 1.844   0.051   2.5548 \t 0.669\n",
      "4 Driver \t\t 0.799 \t 0.620 \t 1.775   0.079   2.0188 \t 0.646\n",
      "5 3Idiots \t\t 0.803 \t 0.632 \t 1.819   0.082   1.4592 \t 0.622\n",
      "6 JunyuChen \t\t 0.829 \t 0.675 \t 1.580   0.093   5000.0000 \t 0.791\n",
      "7 PIMed \t\t 0.783 \t 0.577 \t 1.863   0.065   3.4722 \t 0.619\n",
      "8 > LapIRNv2 \t\t 0.836 \t 0.690 \t 1.562   0.124   5000.0000 \t 0.750\n",
      "9 BinDuan \t\t 0.820 \t 0.659 \t 1.666   0.085   5000.0000 \t 0.716\n",
      "10 KunTang \t\t 0.823 \t 0.666 \t 1.658   0.120   5000.0000 \t 0.666\n",
      "11 YihaoLiu \t\t 0.834 \t 0.681 \t 1.658   0.234   5000.0000 \t 0.651\n",
      "12 Winter \t\t 0.770 \t 0.571 \t 2.157   0.080   2.5558 \t 0.449\n",
      "13 MEVIS \t\t 0.769 \t 0.569 \t 2.094   0.071   10.3557 \t 0.448\n",
      "14 corrField \t\t 0.766 \t 0.567 \t 2.022   0.095   13.9658 \t 0.383\n",
      "15 Imperial \t\t 0.760 \t 0.573 \t 2.433   0.189   2610.6623 \t 0.309\n",
      "16 NiftyReg \t\t 0.727 \t 0.508 \t 2.368   0.061   5.0000 \t 0.289\n",
      "17 Multi-Brain \t\t 0.776 \t 0.594 \t 1.921   0.569   5000.0000 \t 0.348\n",
      "18 Thorley \t\t 0.769 \t 0.597 \t 2.213   0.312   5000.0000 \t 0.332\n",
      "19 TUM \t\t\t 0.671 \t 0.416 \t 2.743   0.040   1.3754 \t 0.235\n",
      "20 LaTIM \t\t 0.739 \t 0.515 \t 2.313   0.079   5000.0000 \t 0.308\n",
      "21 Initial \t\t 0.559 \t 0.274 \t 3.864   1.500   5000.0000 \t 0.100\n"
     ]
    }
   ],
   "source": [
    "idx2 = np.argsort(-all_rank)\n",
    "print('WITH RUNTIME')\n",
    "print('#','team','\\t\\t\\t','Dice\\t','Dice30\\t','HD95\\t ','sdLogJ ','runtime\\t','rank')\n",
    "for i in range(N):\n",
    "    team = r_names(unique_teams[idx2[i]])\n",
    "    new = ''\n",
    "    if events[idx2[i]] == '2023_MICCAI':\n",
    "        new = '> '\n",
    "    tab = '\\t\\t\\t'\n",
    "    d0 = 5\n",
    "    d1 = 6\n",
    "    if(len(team)>=d0):\n",
    "        tab = '\\t\\t'\n",
    "    if(len(team)>d0+d1):\n",
    "        tab = '\\t'\n",
    "    if(len(team)>=d0+d1*2):\n",
    "        tab = ''\n",
    "    #if(len(team)>=d0+d1*3):\n",
    "    #    tab = ''\n",
    "    print(i+1,new+team,tab,'%0.3f'%dice_3[idx2[i]].mean(),'\\t','%0.3f'%dice3_30[idx2[i]].mean(),'\\t','%0.3f'%hd95_3[idx2[i]].mean(),' ','%0.3f'%sdlogj_3[idx2[i]].mean(),' ','%0.4f'%times_3[idx2[i]].mean(),'\\t','%0.3f'%rank3_withoutRUNTIME[idx2[i]])\n"
   ]
  },
  {
   "cell_type": "code",
   "execution_count": 9,
   "metadata": {},
   "outputs": [
    {
     "name": "stdout",
     "output_type": "stream",
     "text": [
      "   rank         team   Dice Dice30   HD95  sdLogJ   rank\n",
      "0     1       LapIRN  0.822  0.664  1.668   0.071  0.814\n",
      "1     2    JunyuChen  0.829  0.675  1.580   0.093  0.791\n",
      "2     3   ConvexAdam  0.811  0.641  1.629   0.070  0.763\n",
      "3     4   > LapIRNv2  0.836  0.690  1.562   0.124  0.750\n",
      "4     5      BinDuan  0.820  0.659  1.666   0.085  0.716\n",
      "5     6          IWM  0.794  0.608  1.844   0.051  0.669\n",
      "6     7      KunTang  0.823  0.666  1.658   0.120  0.666\n",
      "7     8     YihaoLiu  0.834  0.681  1.658   0.234  0.651\n",
      "8     9       Driver  0.799  0.620  1.775   0.079  0.646\n",
      "9    10      3Idiots  0.803  0.632  1.819   0.082  0.622\n",
      "10   11        PIMed  0.783  0.577  1.863   0.065  0.619\n",
      "11   12       Winter  0.770  0.571  2.157   0.080  0.449\n",
      "12   13        MEVIS  0.769  0.569  2.094   0.071  0.448\n",
      "13   14    corrField  0.766  0.567  2.022   0.095  0.383\n",
      "14   15  Multi-Brain  0.776  0.594  1.921   0.569  0.348\n",
      "15   16      Thorley  0.769  0.597  2.213   0.312  0.332\n",
      "16   17     Imperial  0.760  0.573  2.433   0.189  0.309\n",
      "17   18        LaTIM  0.739  0.515  2.313   0.079  0.308\n",
      "18   19     NiftyReg  0.727  0.508  2.368   0.061  0.289\n",
      "19   20          TUM  0.671  0.416  2.743   0.040  0.235\n",
      "20   21      Initial  0.559  0.274  3.864   1.500  0.100\n"
     ]
    }
   ],
   "source": [
    "print(df)"
   ]
  },
  {
   "cell_type": "code",
   "execution_count": 10,
   "metadata": {},
   "outputs": [],
   "source": [
    "##save to csv\n",
    "df.to_csv('OASIS_ranking.csv', index=False)\n"
   ]
  }
 ],
 "metadata": {
  "kernelspec": {
   "display_name": "Python 3",
   "language": "python",
   "name": "python3"
  },
  "language_info": {
   "codemirror_mode": {
    "name": "ipython",
    "version": 3
   },
   "file_extension": ".py",
   "mimetype": "text/x-python",
   "name": "python",
   "nbconvert_exporter": "python",
   "pygments_lexer": "ipython3",
   "version": "3.9.18"
  },
  "orig_nbformat": 4
 },
 "nbformat": 4,
 "nbformat_minor": 2
}
