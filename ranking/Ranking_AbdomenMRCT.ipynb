{
 "cells": [
  {
   "cell_type": "code",
   "execution_count": 1,
   "metadata": {},
   "outputs": [],
   "source": [
    "import numpy as np\n",
    "from pathlib import Path\n",
    "import matplotlib.pyplot as plt\n",
    "import scipy.stats\n",
    "from ranking_utils import scores_better, rankscore_avgtie, greaters, r_names\n",
    "import pandas as pd\n",
    "\n",
    "\n",
    "results_dir = Path(Path.cwd(),'L2R_Continous_NPY') ##\n",
    "if not results_dir.exists():\n",
    "    ##load and extract data\n",
    "    !wget https://cloud.imi.uni-luebeck.de/s/gYmJx2nms36xzB4/download -O L2R_Continous_NPY.zip\n",
    "    \n",
    "    !unzip L2R_Continous_NPY.zip\n",
    "    \n",
    "num_labels = 9\n",
    "num_cases = 8\n",
    "task_name = 'AbdomenMRCT'\n",
    "\n",
    "\n",
    "# num_labels = 35\n",
    "# num_cases = 38\n",
    "# task_name = 'OASIS' ##discard 2020_MICCAI results\n",
    "\n",
    "discard_events = [] #eg. ['2020_MICCAI', '2022_2023_Continous']\n",
    "discard_teams = ['2020_MICCAI/initial',\n",
    "                 '2020_MICCAI/stephanie_haeger_mevis_post',\n",
    "                 '2020_MICCAI/tony_mok_hkust',\n",
    "                 '2020_MICCAI/tony_mok_hkust_unsupervised',\n",
    "                 '2021_MICCAI/LapIRN(unsupervised)',\n",
    "                 ] #eg. ['2020_MICCAI/Initial', '2022_2023_Continous/Initial']\n",
    "\n",
    "initial_results = pd.read_csv(results_dir / 'AbdomenMRCT_initial.csv', index_col=0)\n",
    "\n",
    "                 "
   ]
  },
  {
   "cell_type": "code",
   "execution_count": 2,
   "metadata": {},
   "outputs": [],
   "source": [
    "\n",
    "results_paths = sorted([x.parent for x in results_dir.glob(f'*/*/{task_name}_dice.npy') if x.is_file()])\n",
    "\n",
    "###apply filters\n",
    "results_paths = list(filter(lambda x: x.parent.name not in discard_events and x.parent.name+'/'+x.name not in discard_teams, results_paths))\n",
    "\n",
    "\n",
    "#print(*results_paths, sep = \"\\n\")\n",
    "events, unique_teams = [x.parent.name for x in results_paths],[x.name for x in results_paths]\n",
    "\n",
    "N = len(unique_teams)\n",
    "\n",
    "\n",
    "\n",
    "\n"
   ]
  },
  {
   "cell_type": "code",
   "execution_count": 3,
   "metadata": {},
   "outputs": [],
   "source": [
    "dice_3 = np.zeros((N,num_cases,num_labels))\n",
    "hd95_3 = 5*np.ones((N,num_cases,num_labels))\n",
    "sdlogj_3 = 5*np.ones((N,num_cases))\n",
    "times_3 = 100*np.ones((N,num_cases))\n",
    "\n",
    "\n",
    "for i, r_path in enumerate(results_paths):\n",
    "    team = r_names(r_path.name)\n",
    "    if Path ( r_path / f'{task_name}_dice.npy').is_file():\n",
    "        dice = np.load(r_path / f'{task_name}_dice.npy')\n",
    "        dice[dice != dice] = 0\n",
    "        dice_3[i,:,:] = dice\n",
    "    if Path ( r_path / f'{task_name}_hd95.npy').is_file():\n",
    "        hd95 = np.load(r_path / f'{task_name}_hd95.npy')\n",
    "        hd95[hd95 != hd95] = 10\n",
    "        hd95[hd95 == np.Inf] = 10\n",
    "        hd95_3[i,:,:] = hd95\n",
    "    if Path ( r_path / f'{task_name}_sd_log_j.npy').is_file() and not team == 'Initial':\n",
    "        sdlogj = np.load(r_path / f'{task_name}_sd_log_j.npy')\n",
    "        sdlogj_3[i,:] = sdlogj\n",
    "    else:\n",
    "        sdlogj_3[i,:] = 1.5\n",
    "        \n",
    "    if Path ( r_path / f'{task_name}_docker_runtimes.npy').is_file() and not team == 'Initial':\n",
    "        times = np.load(r_path / f'{task_name}_docker_runtimes.npy')\n",
    "        times_3[i,:] =  times\n",
    "    else:\n",
    "        times_3[i,:] = 5000\n",
    "\n",
    "    # if len (team) < 5:\n",
    "    #     tab = '\\t\\t\\t\\t'\n",
    "    # elif len (team) < 12:\n",
    "    #     tab = '\\t\\t\\t'\n",
    "    # elif len (team) < 24:\n",
    "    #     tab = '\\t\\t'\n",
    "    # else:\n",
    "    #     tab = '\\t'\n",
    "\n",
    "    # print(i, team, tab + '%0.3f' % dice.mean(), '%0.3f' % hd95.mean(), '%0.3f' % sdlogj_3[i,:].mean(),\n",
    "    #       '%0.3f' % times_3[i,:].mean())\n",
    "\n",
    "\n",
    "    \n"
   ]
  },
  {
   "cell_type": "code",
   "execution_count": 4,
   "metadata": {},
   "outputs": [],
   "source": [
    "#robustify\n",
    "dice0 = dice_3[0]  \n",
    "dice3_30 = np.zeros((N, round((num_cases*num_labels)*.3)))\n",
    "idx30 = np.argsort(dice0.reshape(-1))[:dice3_30.shape[1]]\n",
    "for i in range(N):\n",
    "    dice3_30[i] = dice_3.reshape(N,-1)[i,idx30]\n",
    "\n",
    "\n"
   ]
  },
  {
   "cell_type": "code",
   "execution_count": 5,
   "metadata": {},
   "outputs": [
    {
     "name": "stdout",
     "output_type": "stream",
     "text": [
      "(13, 22)\n"
     ]
    }
   ],
   "source": [
    "#robustify\n",
    "dice30 = np.zeros((N, round((num_cases*num_labels)*.3)))\n",
    "ordered_diff = np.loadtxt(results_dir / 'AbdomenMRCT_ordered_difficulty.csv', delimiter=\",\", dtype=int)\n",
    "\n",
    "for i in range(N):\n",
    "    dice3_30[i] = dice_3.reshape(N,-1)[i,ordered_diff[:round((num_cases*num_labels)*.3)]]\n",
    "print(dice3_30.shape)\n"
   ]
  },
  {
   "cell_type": "code",
   "execution_count": 6,
   "metadata": {},
   "outputs": [],
   "source": [
    "rank_all = np.zeros((N,5))\n",
    "subset = dice_3.reshape(N,-1)\n",
    "scores = scores_better(subset, N)\n",
    "rank_dice3a = rankscore_avgtie(-scores.astype('int64'))\n",
    "rank_all[:,0] = rank_dice3a\n",
    "subset = dice3_30.reshape(N,-1)\n",
    "scores = scores_better(subset, N)\n",
    "rank_dice3b = rankscore_avgtie(-scores.astype('int64'))\n",
    "rank_all[:,1] = rank_dice3b\n",
    "subset = hd95_3.reshape(N,-1)\n",
    "scores = scores_better(-subset, N)\n",
    "rank_hd3 = rankscore_avgtie(-scores.astype('int64'))\n",
    "rank_all[:,2] = rank_hd3\n",
    "subset = sdlogj_3.reshape(N,-1)\n",
    "scores = scores_better(-subset, N)\n",
    "rank_jac3 = rankscore_avgtie(-scores.astype('int64'))\n",
    "rank_all[:,3] = rank_jac3\n",
    "subset = times_3.reshape(N,-1)\n",
    "scores = scores_better(-subset, N)\n",
    "rank_time3 = rankscore_avgtie(-scores.astype('int64'))\n",
    "rank_all[:,4] = rank_time3"
   ]
  },
  {
   "cell_type": "code",
   "execution_count": 7,
   "metadata": {},
   "outputs": [],
   "source": [
    "rank3 = np.power(np.prod(rank_all[:,:],axis=1),.2)\n",
    "all_rank = np.power(np.prod(rank_all,axis=1),1/5)"
   ]
  },
  {
   "cell_type": "code",
   "execution_count": 8,
   "metadata": {},
   "outputs": [
    {
     "name": "stdout",
     "output_type": "stream",
     "text": [
      "WITHOUT RUNTIME\n",
      "# team \t\t\t Dice\t Dice30\t HD95\t  sdLogJ rank\n",
      "1 ConvexAdam \t\t 0.731 \t 0.612 \t 17.003   0.092   0.848\n",
      "2 PIMed \t\t 0.682 \t 0.513 \t 14.070   0.072   0.848\n",
      "3 corrField \t\t 0.729 \t 0.611 \t 15.435   0.096   0.803\n",
      "4 LapIRN \t\t 0.688 \t 0.496 \t 14.894   0.123   0.710\n",
      "5 MEVIS \t\t 0.653 \t 0.533 \t 20.021   0.146   0.710\n",
      "6 > LapIRNv2 \t\t 0.731 \t 0.584 \t 14.604   0.131   0.710\n",
      "7 NiftyReg \t\t 0.552 \t 0.462 \t 25.177   0.121   0.556\n",
      "8 Driver \t\t 0.547 \t 0.344 \t 19.105   0.132   0.502\n",
      "9 LaTIM \t\t 0.491 \t 0.239 \t 33.251   0.128   0.362\n",
      "10 Imperial \t\t 0.406 \t 0.246 \t 40.679   0.107   0.356\n",
      "11 Multi-Brain \t\t 0.442 \t 0.266 \t 30.289   0.481   0.257\n",
      "12 Winter \t\t 0.410 \t 0.200 \t 27.595   0.851   0.213\n",
      "13 songx \t\t 0.342 \t 0.095 \t 35.671   0.422   0.121\n",
      "14 Initial \t\t 0.223 \t 0.005 \t 40.734\n"
     ]
    }
   ],
   "source": [
    "df = pd.DataFrame(columns=['num', 'team', 'Dice', 'Dice_30', 'HD95', 'sdLogJ', 'rank'])\n",
    "rank3_withoutRUNTIME = np.power(np.prod(rank_all[:,:4],axis=1),.25)\n",
    "all_rank_withoutRUNTIME = np.power(np.prod(rank_all[:,:4],axis=1),1/4)\n",
    "idx2 = np.argsort(-all_rank_withoutRUNTIME)\n",
    "\n",
    "\n",
    "print('WITHOUT RUNTIME')\n",
    "print('#','team','\\t\\t\\t','Dice\\t','Dice30\\t','HD95\\t',' sdLogJ','rank')\n",
    "\n",
    "\n",
    "for i in range(N):\n",
    "    df.loc[i,'rank'] = all_rank_withoutRUNTIME[i]\n",
    "    team = r_names(unique_teams[idx2[i]])\n",
    "    new = ''\n",
    "    if events[idx2[i]] == '2023_MICCAI':\n",
    "        new = '> '\n",
    "    tab = '\\t\\t\\t'\n",
    "    d0 = 5\n",
    "    d1 = 6\n",
    "    if(len(team)>=d0):\n",
    "        tab = '\\t\\t'\n",
    "    if(len(team)>d0+d1):\n",
    "        tab = '\\t'\n",
    "    \n",
    "    if(len(team)>=d0+d1*2):\n",
    "        tab = ''\n",
    "    #if(len(team)>=d0+d1*3):\n",
    "    #    tab = ''\n",
    "    print(i+1,new + team,tab,'%0.3f'%dice_3[idx2[i]].mean(),'\\t','%0.3f'%dice3_30[idx2[i]].mean(),'\\t','%0.3f'%hd95_3[idx2[i]].mean(),' ','%0.3f'%sdlogj_3[idx2[i]].mean(),' ','%0.3f'%rank3_withoutRUNTIME[idx2[i]])\n",
    "    df.loc[i]= [i+1, team, dice_3[idx2[i]].mean(), dice3_30[idx2[i]].mean(), hd95_3[idx2[i]].mean(), sdlogj_3[idx2[i]].mean(), rank3_withoutRUNTIME[idx2[i]]]\n",
    "print(i+2, 'Initial', '\\t\\t', '%0.3f' % float(initial_results['13']['Dice']), '\\t', '%0.3f' % float(initial_results['13']['Dice_30']), '\\t', '%0.3f' % float(initial_results['13']['HD95']))\n",
    "df.loc[i+1]= [i+2, 'Initial', float(initial_results['13']['Dice']), float(initial_results['13']['Dice_30']), float(initial_results['13']['HD95']), '', '']\n"
   ]
  },
  {
   "cell_type": "code",
   "execution_count": 9,
   "metadata": {},
   "outputs": [
    {
     "name": "stdout",
     "output_type": "stream",
     "text": [
      "WITH RUNTIME\n",
      "# team \t\t\t Dice\t Dice30\t HD95\t  sdLogJ  runtime\t rank\n",
      "1 ConvexAdam \t\t 0.731 \t 0.612 \t 17.003   0.092   1.2996 \t 0.848\n",
      "2 corrField \t\t 0.729 \t 0.611 \t 15.435   0.096   2.1261 \t 0.803\n",
      "3 LapIRN \t\t 0.688 \t 0.496 \t 14.894   0.123   1.4978 \t 0.710\n",
      "4 PIMed \t\t 0.682 \t 0.513 \t 14.070   0.072   59.2212 \t 0.848\n",
      "5 MEVIS \t\t 0.653 \t 0.533 \t 20.021   0.146   14.7296 \t 0.710\n",
      "6 NiftyReg \t\t 0.552 \t 0.462 \t 25.177   0.121   11.0000 \t 0.556\n",
      "7 > LapIRNv2 \t\t 0.731 \t 0.584 \t 14.604   0.131   5000.0000 \t 0.710\n",
      "8 Driver \t\t 0.547 \t 0.344 \t 19.105   0.132   1.9474 \t 0.502\n",
      "9 Imperial \t\t 0.406 \t 0.246 \t 40.679   0.107   278.3830 \t 0.356\n",
      "10 LaTIM \t\t 0.491 \t 0.239 \t 33.251   0.128   5000.0000 \t 0.362\n",
      "11 Winter \t\t 0.410 \t 0.200 \t 27.595   0.851   2.7915 \t 0.213\n",
      "12 Multi-Brain \t\t 0.442 \t 0.266 \t 30.289   0.481   5000.0000 \t 0.257\n",
      "13 songx \t\t 0.342 \t 0.095 \t 35.671   0.422   5000.0000 \t 0.121\n",
      "14 Initial \t\t 0.223 \t 0.005 \t 40.734\n"
     ]
    }
   ],
   "source": [
    "idx2 = np.argsort(-all_rank)\n",
    "print('WITH RUNTIME')\n",
    "print('#','team','\\t\\t\\t','Dice\\t','Dice30\\t','HD95\\t ','sdLogJ ','runtime\\t','rank')\n",
    "for i in range(N):\n",
    "    team = r_names(unique_teams[idx2[i]])\n",
    "    new = ''\n",
    "    if events[idx2[i]] == '2023_MICCAI':\n",
    "        new = '> '\n",
    "    tab = '\\t\\t\\t'\n",
    "    d0 = 5\n",
    "    d1 = 6\n",
    "    if(len(team)>=d0):\n",
    "        tab = '\\t\\t'\n",
    "    if(len(team)>d0+d1):\n",
    "        tab = '\\t'\n",
    "    if(len(team)>=d0+d1*2):\n",
    "        tab = ''\n",
    "    #if(len(team)>=d0+d1*3):\n",
    "    #    tab = ''\n",
    "    print(i+1,new+team,tab,'%0.3f'%dice_3[idx2[i]].mean(),'\\t','%0.3f'%dice3_30[idx2[i]].mean(),'\\t','%0.3f'%hd95_3[idx2[i]].mean(),' ','%0.3f'%sdlogj_3[idx2[i]].mean(),' ','%0.4f'%times_3[idx2[i]].mean(),'\\t','%0.3f'%rank3_withoutRUNTIME[idx2[i]])\n",
    "print(i+2, 'Initial', '\\t\\t', '%0.3f' % float(initial_results['13']['Dice']), '\\t', '%0.3f' % float(initial_results['13']['Dice_30']), '\\t', '%0.3f' % float(initial_results['13']['HD95']))\n"
   ]
  },
  {
   "cell_type": "code",
   "execution_count": 10,
   "metadata": {},
   "outputs": [
    {
     "name": "stdout",
     "output_type": "stream",
     "text": [
      "   num         team      Dice   Dice_30       HD95    sdLogJ      rank\n",
      "0    1   ConvexAdam  0.730605  0.612326  17.003147  0.091759  0.847652\n",
      "1    2        PIMed  0.681882   0.51338  14.070384  0.071944  0.847652\n",
      "2    3    corrField  0.729215   0.61097  15.434509  0.095889  0.802958\n",
      "3    4       LapIRN  0.687759  0.496172  14.894119  0.122943  0.710462\n",
      "4    5        MEVIS   0.65322  0.532843  20.020743  0.145631  0.710462\n",
      "5    6     LapIRNv2  0.731448  0.584447  14.604346  0.131021  0.710462\n",
      "6    7     NiftyReg  0.552176  0.461988  25.176542  0.120981  0.556012\n",
      "7    8       Driver  0.547029   0.34393  19.105023  0.131773  0.502182\n",
      "8    9        LaTIM  0.490671  0.239267  33.251451   0.12812  0.362024\n",
      "9   10     Imperial  0.405825  0.246194  40.679461   0.10669  0.355737\n",
      "10  11  Multi-Brain  0.442374   0.26622  30.288926  0.480867  0.257421\n",
      "11  12       Winter  0.409589  0.199619   27.59467  0.850929  0.213208\n",
      "12  13        songx  0.342227  0.094748  35.670793  0.422141  0.120737\n",
      "13  14      Initial  0.222924  0.005202  40.733563                    \n"
     ]
    }
   ],
   "source": [
    "print(df)\n",
    "\n",
    "df.loc[13].drop('num').to_csv(results_dir/'AbdomenMRCT_ranking.csv',index=True)\n",
    "\n",
    "df.to_csv('AbdomenMRCT_ranking.csv', index=False)"
   ]
  },
  {
   "cell_type": "code",
   "execution_count": null,
   "metadata": {},
   "outputs": [],
   "source": []
  }
 ],
 "metadata": {
  "kernelspec": {
   "display_name": "Python 3",
   "language": "python",
   "name": "python3"
  },
  "language_info": {
   "codemirror_mode": {
    "name": "ipython",
    "version": 3
   },
   "file_extension": ".py",
   "mimetype": "text/x-python",
   "name": "python",
   "nbconvert_exporter": "python",
   "pygments_lexer": "ipython3",
   "version": "3.9.18"
  },
  "orig_nbformat": 4
 },
 "nbformat": 4,
 "nbformat_minor": 2
}
