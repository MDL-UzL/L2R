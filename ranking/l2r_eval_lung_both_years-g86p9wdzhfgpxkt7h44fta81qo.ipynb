{
  "nbformat": 4,
  "nbformat_minor": 0,
  "metadata": {
    "colab": {
      "provenance": [],
      "collapsed_sections": []
    },
    "kernelspec": {
      "name": "python3",
      "display_name": "Python 3"
    },
    "language_info": {
      "name": "python"
    }
  },
  "cells": [
    {
      "cell_type": "code",
      "metadata": {
        "colab": {
          "base_uri": "https://localhost:8080/"
        },
        "id": "u8IMhM9IjSia",
        "outputId": "7ae21f7d-6e98-4e32-a1d5-6299167b1580"
      },
      "source": [
        "!wget https://cloud.imi.uni-luebeck.de/s/yXgozSrytXt8dDi/download -O L2R2021_results.zip\n",
        "!wget https://cloud.imi.uni-luebeck.de/s/4Q3J3fSamzcw4Kj/download -O l2r_results_2020.zip"
      ],
      "execution_count": null,
      "outputs": [
        {
          "output_type": "stream",
          "name": "stdout",
          "text": [
            "--2022-06-13 09:07:22--  https://cloud.imi.uni-luebeck.de/s/yXgozSrytXt8dDi/download\n",
            "Resolving cloud.imi.uni-luebeck.de (cloud.imi.uni-luebeck.de)... 141.83.20.118\n",
            "Connecting to cloud.imi.uni-luebeck.de (cloud.imi.uni-luebeck.de)|141.83.20.118|:443... connected.\n",
            "HTTP request sent, awaiting response... 200 OK\n",
            "Length: 408078 (399K) [application/zip]\n",
            "Saving to: ‘L2R2021_results.zip’\n",
            "\n",
            "L2R2021_results.zip 100%[===================>] 398.51K  --.-KB/s    in 0.07s   \n",
            "\n",
            "2022-06-13 09:07:23 (5.33 MB/s) - ‘L2R2021_results.zip’ saved [408078/408078]\n",
            "\n",
            "--2022-06-13 09:07:23--  https://cloud.imi.uni-luebeck.de/s/4Q3J3fSamzcw4Kj/download\n",
            "Resolving cloud.imi.uni-luebeck.de (cloud.imi.uni-luebeck.de)... 141.83.20.118\n",
            "Connecting to cloud.imi.uni-luebeck.de (cloud.imi.uni-luebeck.de)|141.83.20.118|:443... connected.\n",
            "HTTP request sent, awaiting response... 200 OK\n",
            "Length: 319697 (312K) [application/zip]\n",
            "Saving to: ‘l2r_results_2020.zip’\n",
            "\n",
            "l2r_results_2020.zi 100%[===================>] 312.20K  --.-KB/s    in 0.05s   \n",
            "\n",
            "2022-06-13 09:07:23 (6.45 MB/s) - ‘l2r_results_2020.zip’ saved [319697/319697]\n",
            "\n"
          ]
        }
      ]
    },
    {
      "cell_type": "code",
      "metadata": {
        "id": "JQzFYrdhjXUN"
      },
      "source": [
        "!unzip -q l2r_results_2020.zip\n",
        "!unzip -q L2R2021_results.zip"
      ],
      "execution_count": null,
      "outputs": []
    },
    {
      "cell_type": "code",
      "metadata": {
        "id": "QknAdME8jwg5"
      },
      "source": [
        "import numpy as np\n",
        "import scipy.stats\n",
        "def unique(list1):\n",
        "    # insert the list to the set\n",
        "    list_set = set(list1)\n",
        "    # convert the set to the list\n",
        "    unique_list = (list(list_set))\n",
        "    return unique_list\n",
        "np.set_printoptions(precision=3)\n",
        "\n",
        "\n"
      ],
      "execution_count": null,
      "outputs": []
    },
    {
      "cell_type": "code",
      "metadata": {
        "colab": {
          "base_uri": "https://localhost:8080/"
        },
        "id": "0SLm8ejIjlSV",
        "outputId": "35630fea-e229-4697-8321-11644f50885b"
      },
      "source": [
        "base_path = './'#/L2R2021_results/'\n",
        "import json\n",
        "import os\n",
        "import matplotlib.pyplot as plt\n",
        "\n",
        "#'songx',\n",
        "#unique_teams = ['L2R2021_results/cwmokab','L2R2021_results/Driver','L2R2021_results/FraunhoferMEVIS','L2R2021_results/Imperial','L2R2021_results/initial','L2R2021_results/lassehansen','L2R2021_results/lifshitz','L2R2021_results/ConvexAdam','L2R2021_results/PIMed','L2R2021_results/smajjk','L2R2021_results/vjaouen','L2R2021_results/Winter',\\\n",
        "#               'l2r_results_2020/constance_fourcade_nantes','l2r_results_2020/deeds','l2r_results_2020/lasse_hansen_uzl','l2r_results_2020/nifty','l2r_results_2020/niklas_gunnarsson_uppsala','l2r_results_2020/stephanie_haeger_mevis_post','l2r_results_2020/tony_mok_hkust','l2r_results_2020/tony_mok_hkust_unsupervised']#unique(teams1+teams2+teams3)\n",
        "\n",
        "unique_teams = ['L2R2021_results/cwmokab','L2R2021_results/Driver','L2R2021_results/FraunhoferMEVIS','L2R2021_results/Imperial','L2R2021_results/initial','L2R2021_results/lassehansen','L2R2021_results/lifshitz','L2R2021_results/ConvexAdam','L2R2021_results/PIMed','L2R2021_results/smajjk','L2R2021_results/vjaouen','L2R2021_results/Winter',\\\n",
        "               'l2r_results_2020/constance_fourcade_nantes','l2r_results_2020/lasse_hansen_uzl','l2r_results_2020/nifty','l2r_results_2020/niklas_gunnarsson_uppsala']#unique(teams1+teams2+teams3)\n",
        "\n",
        "#'szkcuit',\n",
        "print(len(unique_teams))\n",
        "\n",
        "N = len(unique_teams)#20"
      ],
      "execution_count": null,
      "outputs": [
        {
          "output_type": "stream",
          "name": "stdout",
          "text": [
            "16\n"
          ]
        }
      ]
    },
    {
      "cell_type": "code",
      "metadata": {
        "colab": {
          "base_uri": "https://localhost:8080/"
        },
        "id": "LZhsPROdjvSm",
        "outputId": "604a6dcc-5967-4c41-d640-648ae8f49571"
      },
      "source": [
        "idx0 = unique_teams.index('L2R2021_results/initial')\n",
        "tre2 = np.zeros((N,10,100))\n",
        "tre0 = np.load(base_path+unique_teams[idx0]+'/task_02_tre.npy')\n",
        "for i in range(N):\n",
        "    if(os.path.exists(base_path+unique_teams[i]+'/task_02_tre.npy')):\n",
        "        tre2[i] = np.load(base_path+unique_teams[i]+'/task_02_tre.npy')\n",
        "    else:\n",
        "        print(unique_teams[i])\n",
        "        tre2[i] = tre0\n",
        "tre2 = np.nan_to_num(tre2,nan=30)\n",
        "print(np.mean(tre2.reshape(N,-1),axis=1))"
      ],
      "execution_count": null,
      "outputs": [
        {
          "output_type": "stream",
          "name": "stdout",
          "text": [
            "[ 1.976  2.658  1.676  1.812 10.235  1.755  2.259  1.794  2.345  6.608\n",
            "  1.832  7.413  6.547  2.462  2.699  8.999]\n"
          ]
        }
      ]
    },
    {
      "cell_type": "code",
      "metadata": {
        "colab": {
          "base_uri": "https://localhost:8080/"
        },
        "id": "TSkibdWVj8Sz",
        "outputId": "e14916f4-9660-4ee1-a924-7c36ff32bcd8"
      },
      "source": [
        "idx0 = unique_teams.index('L2R2021_results/initial')\n",
        "jac2 = 5*np.ones((N,10))\n",
        "jac0 = 5*np.ones(10)#np.load(base_path+unique_teams[idx0]+'/task_01_dice.npy')\n",
        "for i in range(N):\n",
        "    if(i==idx0):\n",
        "        continue\n",
        "    if(os.path.exists(base_path+unique_teams[i]+'/task_02_sd_log_j.npy')):\n",
        "        jac2[i] = np.load(base_path+unique_teams[i]+'/task_02_sd_log_j.npy')\n",
        "    else:\n",
        "        jac2[i] = jac0\n",
        "print(np.mean(jac2,1))"
      ],
      "execution_count": null,
      "outputs": [
        {
          "output_type": "stream",
          "name": "stdout",
          "text": [
            "[0.062 0.101 0.083 0.108 5.    0.05  0.075 0.061 0.041 0.082 0.051 0.091\n",
            " 0.075 0.036 0.1   0.118]\n"
          ]
        }
      ]
    },
    {
      "cell_type": "code",
      "metadata": {
        "colab": {
          "base_uri": "https://localhost:8080/"
        },
        "id": "VO2W2GLhj_FY",
        "outputId": "8921ba67-a61a-46fa-de0c-f88fed9458a2"
      },
      "source": [
        "idx0 = unique_teams.index('L2R2021_results/initial')\n",
        "time2 = 3500*np.ones((N,10))\n",
        "time0 = 3500*np.ones(10)#np.load(base_path+unique_teams[idx0]+'/task_01_dice.npy')\n",
        "for i in range(N):\n",
        "    if(i==idx0):\n",
        "        continue\n",
        "    if(os.path.exists(base_path+unique_teams[i]+'/task_02_docker_runtimes.npy')):\n",
        "        time2[i] = np.load(base_path+unique_teams[i]+'/task_02_docker_runtimes.npy')\n",
        "    else:\n",
        "        time2[i] = time0\n",
        "print(np.mean(time2,1))"
      ],
      "execution_count": null,
      "outputs": [
        {
          "output_type": "stream",
          "name": "stdout",
          "text": [
            "[1.034e+01 2.664e+00 9.538e+01 3.004e+02 3.500e+03 2.913e+00 2.895e+00\n",
            " 1.820e+00 6.239e+02 3.500e+03 3.500e+03 1.203e+01 3.500e+03 4.223e+00\n",
            " 4.220e+01 3.092e+01]\n"
          ]
        }
      ]
    },
    {
      "cell_type": "code",
      "metadata": {
        "id": "fFAZpo3ukBr2"
      },
      "source": [
        "p_threshold = 0.05\n",
        "def scores_better(task_metric):\n",
        "    better = np.zeros((N,N))\n",
        "    for i in range(N):\n",
        "        for j in range(N):\n",
        "            h,p = scipy.stats.ranksums(task_metric[i], task_metric[j])\n",
        "            if((h>0)&(p<p_threshold)): #sign of h and p-value\n",
        "                better[i,j] = 1\n",
        "    scores_task = better.sum(0)\n",
        "    return scores_task"
      ],
      "execution_count": null,
      "outputs": []
    },
    {
      "cell_type": "code",
      "metadata": {
        "id": "XpL_ByzJkFMv"
      },
      "source": [
        "def rankscore_avgtie(scores_int):\n",
        "    N = len(scores_int)\n",
        "    rankscale = np.linspace(.1,1,N) #our definition\n",
        "    rankavg = np.zeros((N,2))\n",
        "    scorerank = np.zeros(N)\n",
        "    #argsort with reverse index\n",
        "    idx_ = np.argsort(scores_int)\n",
        "    idx = np.zeros(N).astype('int32')\n",
        "    idx[idx_] = np.arange(N)\n",
        "    #averaging ties\n",
        "    for i in range(N):\n",
        "        rankavg[scores_int[i],0] += rankscale[idx[i]]\n",
        "        rankavg[scores_int[i],1] += 1\n",
        "    rankavg = rankavg[:,0]/np.maximum(rankavg[:,1],1e-6)\n",
        "    for i in range(N):\n",
        "        scorerank[i] = rankavg[scores_int[i]]\n",
        "    return scorerank\n",
        "scores = np.array([0, 2, 4, 3, 4, 0]).astype('int32')\n",
        "scorerank = rankscore_avgtie(scores)"
      ],
      "execution_count": null,
      "outputs": []
    },
    {
      "cell_type": "code",
      "metadata": {
        "id": "xSokawz-kGQP"
      },
      "source": [
        "def greaters(scores):\n",
        "    return np.sum(scores.reshape(1,-1)>scores.reshape(-1,1),0)\n",
        "\n"
      ],
      "execution_count": null,
      "outputs": []
    },
    {
      "cell_type": "code",
      "metadata": {
        "colab": {
          "base_uri": "https://localhost:8080/"
        },
        "id": "t6f9sbX3kIkc",
        "outputId": "197c7a0b-7dac-455b-ce79-b6faff0d95d8"
      },
      "source": [
        "#robustify\n",
        "print(tre0.shape,tre2.shape)\n",
        "tre2_30 = np.zeros((N,10,30))\n",
        "for j in range(10):\n",
        "    idx30 = np.argsort(tre0[j])[-30:]\n",
        "    for i in range(N):\n",
        "        tre2_30[i,j] = tre2[i,j,idx30]\n",
        "#dice0 = np.load(base_path+unique_teams[idx0]+'/task_03_dice.npy')   \n",
        "#print(dice0.shape,dice3.shape)\n",
        "#dice3_30 = np.zeros((N,38,11))\n",
        "#for j in range(38):\n",
        "#    idx30 = np.argsort(dice0[j])[:11]\n",
        "#    for i in range(N):\n",
        "#        dice3_30[i,j] = dice3[i,j,idx30]"
      ],
      "execution_count": null,
      "outputs": [
        {
          "output_type": "stream",
          "name": "stdout",
          "text": [
            "(10, 100) (16, 10, 100)\n"
          ]
        }
      ]
    },
    {
      "cell_type": "code",
      "metadata": {
        "colab": {
          "base_uri": "https://localhost:8080/"
        },
        "id": "j6kSmSCTkLLo",
        "outputId": "9a16eaa8-03ca-4004-96ec-cc77396b3bd4"
      },
      "source": [
        "print(np.mean(tre2_30.reshape(N,-1),axis=1))\n",
        "\n",
        "#print(np.mean(dice3_30.reshape(N,-1),axis=1))"
      ],
      "execution_count": null,
      "outputs": [
        {
          "output_type": "stream",
          "name": "stdout",
          "text": [
            "[ 2.953  3.5    2.37   2.541 16.8    2.482  3.005  2.702  3.27   8.754\n",
            "  2.504 10.115 10.29   3.81   5.283 11.271]\n"
          ]
        }
      ]
    },
    {
      "cell_type": "code",
      "metadata": {
        "id": "PjXrNPwwkO4Q"
      },
      "source": [
        "rank_all = np.zeros((N,5))\n",
        "\n",
        "\n",
        "#TASK2\n",
        "subset = tre2.reshape(N,-1)\n",
        "scores = scores_better(-subset)\n",
        "rank_tre2a = rankscore_avgtie(-scores.astype('int64'))\n",
        "rank_all[:,0] = rank_tre2a\n",
        "rank_all[:,1] = rank_tre2a\n",
        "subset = tre2_30.reshape(N,-1)\n",
        "scores = scores_better(-subset)\n",
        "rank_tre2b = rankscore_avgtie(-scores.astype('int64'))\n",
        "rank_all[:,2] = rank_tre2b\n",
        "subset = jac2.reshape(N,-1)\n",
        "scores = scores_better(-subset)\n",
        "rank_jac2 = rankscore_avgtie(-scores.astype('int64'))\n",
        "rank_all[:,3] = rank_jac2\n",
        "subset = time2.reshape(N,-1)\n",
        "scores = scores_better(-subset)\n",
        "rank_time2 = rankscore_avgtie(-scores.astype('int64'))\n",
        "rank_all[:,4] = rank_time2"
      ],
      "execution_count": null,
      "outputs": []
    },
    {
      "cell_type": "code",
      "metadata": {
        "colab": {
          "base_uri": "https://localhost:8080/"
        },
        "id": "ySgamQ44kQmo",
        "outputId": "2ff3235c-602f-4015-888c-d676ad2ba9bf"
      },
      "source": [
        "#rank1 = np.power(np.prod(rank_all[:,:5],axis=1),.2)\n",
        "#print(rank1)\n",
        "rank2 = np.power(np.prod(rank_all,axis=1),.2)\n",
        "print(rank2)\n",
        "#rank3 = np.power(np.prod(rank_all[:,10:],axis=1),.2)\n",
        "#print(rank3)\n",
        "\n",
        "\n",
        "all_rank = np.power(np.prod(rank_all,axis=1),1/5)"
      ],
      "execution_count": null,
      "outputs": [
        {
          "output_type": "stream",
          "name": "stdout",
          "text": [
            "[0.732 0.439 0.778 0.573 0.114 0.872 0.607 0.812 0.553 0.267 0.616 0.399\n",
            " 0.286 0.62  0.51  0.207]\n"
          ]
        }
      ]
    },
    {
      "cell_type": "code",
      "metadata": {
        "id": "rLBh-piQkSe_"
      },
      "source": [
        "\n",
        "idx2 = np.argsort(-all_rank)\n",
        "\n",
        "import csv\n",
        "\n",
        "line0 = ['team','allrank','rank2','TRE2','TRE2_30','stdJ2','time2']\n",
        "writecsv = True\n",
        "if(writecsv):\n",
        "    with open('L2R_Lung_20202021_results.csv', 'w', newline='\\n') as csvfile:\n",
        "        writer = csv.writer(csvfile, delimiter=',')\n",
        "        writer.writerow(line0)\n",
        "\n",
        "        for i in range(7):\n",
        "            line = [unique_teams[idx2[i]],str(all_rank[idx2[i]]),str(rank2[idx2[i]]),\\\n",
        "                    str(np.mean(tre2[idx2[i]])),str(np.mean(tre2_30[idx2[i]])),str(np.mean(jac2[idx2[i]])),str(np.mean(time2[idx2[i]]))]\n",
        "            writer.writerow(line)\n",
        "    \n",
        "    "
      ],
      "execution_count": null,
      "outputs": []
    },
    {
      "cell_type": "code",
      "metadata": {
        "colab": {
          "base_uri": "https://localhost:8080/"
        },
        "id": "NzC3k62UkWEm",
        "outputId": "4e1e471b-0a46-4bea-e9cc-11ce05e577c3"
      },
      "source": [
        "print(time2.shape)\n",
        "tre2_mean = np.mean(np.mean(tre2,2),1)"
      ],
      "execution_count": null,
      "outputs": [
        {
          "output_type": "stream",
          "name": "stdout",
          "text": [
            "(16, 10)\n"
          ]
        }
      ]
    },
    {
      "cell_type": "code",
      "metadata": {
        "colab": {
          "base_uri": "https://localhost:8080/"
        },
        "id": "dJt4y9OUkZZn",
        "outputId": "daf01d50-d422-433a-9d58-50bfafc2dc0f"
      },
      "source": [
        "idx2 = np.argsort(-all_rank)\n",
        "for i in range(N):\n",
        "    team = unique_teams[idx2[i]].replace(\"0\",\"O\").zfill(45).replace(\"0\", \" \")\n",
        "\n",
        "    print(i+1,'\\t',team,'\\t','%0.3f'%all_rank[idx2[i]],'\\t','%0.3f'%tre2_mean[idx2[i]],'\\t','%0.3f'%np.mean(jac2,1)[idx2[i]],'\\t','%0.3f'%np.mean(time2,1)[idx2[i]],)\n",
        "\n"
      ],
      "execution_count": null,
      "outputs": [
        {
          "output_type": "stream",
          "name": "stdout",
          "text": [
            "1 \t                   L2R2O21_results/lassehansen \t 0.872 \t 1.755 \t 0.050 \t 2.913\n",
            "2 \t                    L2R2O21_results/ConvexAdam \t 0.812 \t 1.794 \t 0.061 \t 1.820\n",
            "3 \t               L2R2O21_results/FraunhoferMEVIS \t 0.778 \t 1.676 \t 0.083 \t 95.375\n",
            "4 \t                       L2R2O21_results/cwmokab \t 0.732 \t 1.976 \t 0.062 \t 10.344\n",
            "5 \t             l2r_results_2O2O/lasse_hansen_uzl \t 0.620 \t 2.462 \t 0.036 \t 4.223\n",
            "6 \t                       L2R2O21_results/vjaouen \t 0.616 \t 1.832 \t 0.051 \t 3500.000\n",
            "7 \t                      L2R2O21_results/lifshitz \t 0.607 \t 2.259 \t 0.075 \t 2.895\n",
            "8 \t                      L2R2O21_results/Imperial \t 0.573 \t 1.812 \t 0.108 \t 300.363\n",
            "9 \t                         L2R2O21_results/PIMed \t 0.553 \t 2.345 \t 0.041 \t 623.928\n",
            "10 \t                        l2r_results_2O2O/nifty \t 0.510 \t 2.699 \t 0.100 \t 42.200\n",
            "11 \t                        L2R2O21_results/Driver \t 0.439 \t 2.658 \t 0.101 \t 2.664\n",
            "12 \t                        L2R2O21_results/Winter \t 0.399 \t 7.413 \t 0.091 \t 12.030\n",
            "13 \t    l2r_results_2O2O/constance_fourcade_nantes \t 0.286 \t 6.547 \t 0.075 \t 3500.000\n",
            "14 \t                        L2R2O21_results/smajjk \t 0.267 \t 6.608 \t 0.082 \t 3500.000\n",
            "15 \t    l2r_results_2O2O/niklas_gunnarsson_uppsala \t 0.207 \t 8.999 \t 0.118 \t 30.917\n",
            "16 \t                       L2R2O21_results/initial \t 0.114 \t 10.235 \t 5.000 \t 3500.000\n"
          ]
        }
      ]
    },
    {
      "cell_type": "code",
      "metadata": {
        "id": "Z-Ep95FRhkyu",
        "colab": {
          "base_uri": "https://localhost:8080/"
        },
        "outputId": "fe833de7-f03a-43b1-802a-c872249d0b6c"
      },
      "source": [
        "tre = tre2[idx2,:].reshape(-1, 1000)\n",
        "tre30 = tre2_30[idx2,:].reshape(-1, 300)\n",
        "sdlogj = jac2[idx2,:]\n",
        "runtime = time2[idx2,:]\n",
        "rank = all_rank[idx2]\n",
        "\n",
        "label = ['corrField', 'ConvexAdam', 'MEVIS', 'LapIRN', 'PDD-Net', 'LaTIM', 'Lifshitz', 'Imperial', 'PIMed', 'NiftyReg', 'Driver', 'Winter', 'Epicure', 'Multi-brain', 'Gunnarsson', 'Initial']\n",
        "np.save('./ranks_lungct.npy',dict(zip(label, rank)))\n",
        "colors = {'LapIRN' : '#3E6D9B',\n",
        "          'ConvexAdam' : '#82538B',\n",
        "          'IWM' : '#CCC8A9',\n",
        "          'Driver' : '#B8CC90',\n",
        "          '3Idiots' : '#EBCA9A',\n",
        "          'PIMed' : '#EBAF56',\n",
        "          'Winter' : '#EBB4B3',\n",
        "          'MEVIS' : '#5FB346',\n",
        "          'corrField' : '#C74342',\n",
        "          'Multi-brain' : '#CCBAA9',\n",
        "          'Thorley' : '#CCA9A9',\n",
        "          'NiftyReg' : '#929292',\n",
        "          'Bailiang' : '#92ACB2',\n",
        "          'LaTIM' : '#A9CBCC',\n",
        "          'Imperial' : '#CCA9C7',\n",
        "          'Lifshitz' : '#B9BECC',\n",
        "          'Epicure' : '#FFCCB6',\n",
        "          'Gunnarsson' : '#A9BCCC',\n",
        "          'PDD-Net' : '#A9A9CC',\n",
        "          }\n",
        "\n",
        "print('\\\\begin{table}')\n",
        "print('    \\\\centering')\n",
        "print('    \\\\begin{tabular}{rC{1cm}C{1cm}C{1cm}C{1cm}C{1cm}}')\n",
        "print('        \\\\toprule[1.5pt]')\n",
        "print('        & TRE & TRE30 & SDLogJ & RT & Rank \\\\\\\\')\n",
        "print('        \\\\midrule')\n",
        "print('        {} & {:.2f} & {:.2f} & & & \\\\\\\\'.format(label[-1], tre[-1].mean(), tre30[-1].mean()))\n",
        "print('        \\\\midrule')\n",
        "for i in range(len(label)-1):\n",
        "  if runtime[i].mean() == 3500:\n",
        "    print('        {} & {:.2f} & {:.2f} & {:.2f} & & {:.2f}\\\\\\\\'.format(label[i], tre[i].mean(), tre30[i].mean(), sdlogj[i].mean(), rank[i]))\n",
        "  else:\n",
        "    print('        {} & {:.2f} & {:.2f} & {:.2f} & {:.2f} & {:.2f}\\\\\\\\'.format(label[i], tre[i].mean(), tre30[i].mean(), sdlogj[i].mean(), runtime[i].mean(), rank[i]))\n",
        "print('        \\\\bottomrule[1.5pt]')\n",
        "print('    \\\\end{tabular}')\n",
        "print('    \\\\caption{Lung CT}')\n",
        "print('\\\\end{table}')"
      ],
      "execution_count": null,
      "outputs": [
        {
          "output_type": "stream",
          "name": "stdout",
          "text": [
            "\\begin{table}\n",
            "    \\centering\n",
            "    \\begin{tabular}{rC{1cm}C{1cm}C{1cm}C{1cm}C{1cm}}\n",
            "        \\toprule[1.5pt]\n",
            "        & TRE & TRE30 & SDLogJ & RT & Rank \\\\\n",
            "        \\midrule\n",
            "        Initial & 10.24 & 16.80 & & & \\\\\n",
            "        \\midrule\n",
            "        corrField & 1.75 & 2.48 & 0.05 & 2.91 & 0.87\\\\\n",
            "        ConvexAdam & 1.79 & 2.70 & 0.06 & 1.82 & 0.81\\\\\n",
            "        MEVIS & 1.68 & 2.37 & 0.08 & 95.38 & 0.78\\\\\n",
            "        LapIRN & 1.98 & 2.95 & 0.06 & 10.34 & 0.73\\\\\n",
            "        PDD-Net & 2.46 & 3.81 & 0.04 & 4.22 & 0.62\\\\\n",
            "        LaTIM & 1.83 & 2.50 & 0.05 & & 0.62\\\\\n",
            "        Lifshitz & 2.26 & 3.01 & 0.07 & 2.90 & 0.61\\\\\n",
            "        Imperial & 1.81 & 2.54 & 0.11 & 300.36 & 0.57\\\\\n",
            "        PIMed & 2.34 & 3.27 & 0.04 & 623.93 & 0.55\\\\\n",
            "        NiftyReg & 2.70 & 5.28 & 0.10 & 42.20 & 0.51\\\\\n",
            "        Driver & 2.66 & 3.50 & 0.10 & 2.66 & 0.44\\\\\n",
            "        Winter & 7.41 & 10.11 & 0.09 & 12.03 & 0.40\\\\\n",
            "        Epicure & 6.55 & 10.29 & 0.07 & & 0.29\\\\\n",
            "        Multi-brain & 6.61 & 8.75 & 0.08 & & 0.27\\\\\n",
            "        Gunnarsson & 9.00 & 11.27 & 0.12 & 30.92 & 0.21\\\\\n",
            "        \\bottomrule[1.5pt]\n",
            "    \\end{tabular}\n",
            "    \\caption{Lung CT}\n",
            "\\end{table}\n"
          ]
        }
      ]
    },
    {
      "cell_type": "code",
      "metadata": {
        "colab": {
          "base_uri": "https://localhost:8080/",
          "height": 365
        },
        "id": "6b0EKs7VNeQ9",
        "outputId": "11516eab-a756-48f8-ae13-5fdf075fa5e1"
      },
      "source": [
        "c = [colors[l] for l in label[:-1]]\n",
        "with plt.style.context('bmh'):\n",
        "    data1 = tre[:-1].transpose()\n",
        "    data2 = sdlogj[:-1].transpose()\n",
        "    label_ = label[:-1]\n",
        "\n",
        "    print(data1.shape)\n",
        "    print(data2.shape)\n",
        "    print(len(label_))\n",
        "\n",
        "    \n",
        "    fig, ax1 = plt.subplots()\n",
        "\n",
        "    num_label = len(label_)\n",
        "\n",
        "    ax1.set_ylabel('TRE')\n",
        "    \n",
        "    res1 = ax1.boxplot(\n",
        "        data1, positions = (np.arange(num_label)*0.5), widths=0.25,\n",
        "        patch_artist=True, notch=True,\n",
        "    )\n",
        "    #for element in ['boxes', 'whiskers', 'fliers', 'means', 'medians', 'caps']:\n",
        "    #    plt.setp(res1[element], color='k')\n",
        "\n",
        "    for i,patch in enumerate(res1['boxes']):\n",
        "        patch.set_facecolor(c[i])\n",
        "\n",
        "    for i,artist in enumerate(ax1.artists):\n",
        "    # Set the linecolor on the artist to the facecolor, and set the facecolor to None\n",
        "      col = c[i]\n",
        "      artist.set_edgecolor('k')\n",
        "      artist.set_facecolor(col)\n",
        "\n",
        "      # Each box has 6 associated Line2D objects (to make the whiskers, fliers, etc.)\n",
        "      # Loop over them here, and use the same colour as above\n",
        "      for j in range(i*6,i*6+6):\n",
        "          line = ax1.lines[j]\n",
        "          if (j % 6 == 4) or (j % 6 == 5):\n",
        "            line.set_color(col)\n",
        "            line.set_mfc(col)\n",
        "            line.set_mec(col)\n",
        "          else:\n",
        "            line.set_color('k')\n",
        "            line.set_mfc('k')\n",
        "            line.set_mec('k')\n",
        "\n",
        "    ax1.tick_params(axis='x', labelrotation = 90)\n",
        "    ax1.set_xlim([-0.55*0.5, (num_label-0.45)*0.5])\n",
        "    ax1.set_xticks((np.arange(num_label)*0.5))\n",
        "    ax1.set_xticklabels(label_)    \n",
        "    ax1.set_ylim([0, 6])\n",
        "    ax1.tick_params(axis=u'both', which=u'both',length=0)\n",
        "     \n",
        "    plt.title('Lung CT')\n",
        "    \n",
        "    fig.tight_layout()  # otherwise the right y-label is slightly clipped\n",
        "    plt.savefig('./boxplot_lungct.png', dpi=200, transparent=True)\n",
        "    plt.show()\n",
        "\n",
        "    fig_width, fig_height = fig.get_size_inches()\n",
        "    print(fig_width, fig_height)"
      ],
      "execution_count": null,
      "outputs": [
        {
          "output_type": "stream",
          "name": "stdout",
          "text": [
            "(1000, 15)\n",
            "(10, 15)\n",
            "15\n"
          ]
        },
        {
          "output_type": "display_data",
          "data": {
            "image/png": "[encoded data removed]",
            "text/plain": [
              "<Figure size 432x288 with 1 Axes>"
            ]
          },
          "metadata": {
            "needs_background": "light"
          }
        },
        {
          "output_type": "stream",
          "name": "stdout",
          "text": [
            "6.0 4.0\n"
          ]
        }
      ]
    },
    {
      "cell_type": "code",
      "metadata": {
        "id": "p_V4-rnBjzuq",
        "colab": {
          "base_uri": "https://localhost:8080/",
          "height": 246
        },
        "outputId": "60dc1760-57e6-466f-b40b-52cc1d287ed5"
      },
      "source": [
        "with plt.style.context('bmh'):\n",
        "    data1 = tre[:-1].transpose()\n",
        "    data2 = sdlogj[:-1].transpose()\n",
        "    label_ = label[:-1]\n",
        "\n",
        "    fig, ax1 = plt.subplots(figsize=(15,3))\n",
        "\n",
        "    num_label = len(label_)\n",
        "\n",
        "    ax1.set_ylabel('TRE (mm)', color='tab:blue')\n",
        "    \n",
        "    res1 = ax1.boxplot(\n",
        "        data1, positions = (np.arange(num_label)*0.5)-0.09, widths=0.15,\n",
        "        patch_artist=True,\n",
        "    )\n",
        "    for element in ['boxes', 'whiskers', 'fliers', 'means', 'medians', 'caps']:\n",
        "        plt.setp(res1[element], color='k')\n",
        "\n",
        "    for patch in res1['boxes']:\n",
        "        patch.set_facecolor('tab:blue')\n",
        "\n",
        "    ax2 = ax1.twinx()  # instantiate a second axes that shares the same x-axis\n",
        "    ax2.set_ylabel('SDlogJ', color='tab:orange')\n",
        "    res2 = ax2.boxplot(\n",
        "        data2, positions = (np.arange(num_label)*0.5)+0.09, widths=0.15,\n",
        "        patch_artist=True,\n",
        "    )\n",
        "    ##from https://stackoverflow.com/a/41997865/2454357\n",
        "    for element in ['boxes', 'whiskers', 'fliers', 'means', 'medians', 'caps']:\n",
        "        plt.setp(res2[element], color='k')\n",
        "\n",
        "    for patch in res2['boxes']:\n",
        "        patch.set_facecolor('tab:orange')\n",
        "\n",
        "    ax1.set_xlim([-0.55*0.5, (num_label-0.45)*0.5])\n",
        "    ax1.set_xticks((np.arange(num_label)*0.5))\n",
        "    ax1.set_xticklabels(label_)\n",
        "    \n",
        "    ax1.set_ylim([0, 5])\n",
        "    ax2.set_ylim([0.025, 0.095])\n",
        "    ax2.grid(None)\n",
        "     \n",
        "    plt.title('Lung CT')\n",
        "    \n",
        "    fig.tight_layout()  # otherwise the right y-label is slightly clipped\n",
        "    plt.savefig('./boxplot_lungct.png', dpi=200)\n",
        "    plt.show()"
      ],
      "execution_count": null,
      "outputs": [
        {
          "output_type": "display_data",
          "data": {
            "image/png": "[encoded data removed]",
            "text/plain": [
              "<Figure size 1080x216 with 2 Axes>"
            ]
          },
          "metadata": {
            "needs_background": "light"
          }
        }
      ]
    },
    {
      "cell_type": "code",
      "metadata": {
        "colab": {
          "base_uri": "https://localhost:8080/"
        },
        "id": "jo9XQKn1NNQg",
        "outputId": "36097ba8-f3da-4b1e-da8c-1b435cc4caff"
      },
      "source": [
        "print(label)"
      ],
      "execution_count": null,
      "outputs": [
        {
          "output_type": "stream",
          "name": "stdout",
          "text": [
            "['corrField', 'ConvexAdam', 'MEVIS', 'LapIRN', 'PDD-Net', 'Jaouen', 'Lifshitz', 'Imperial', 'PIMed', 'NiftyReg', 'Driver', 'Winter', 'Fourcade', 'Brudfors', 'Gunnarsson', 'Initial']\n"
          ]
        }
      ]
    },
    {
      "cell_type": "code",
      "metadata": {
        "colab": {
          "base_uri": "https://localhost:8080/"
        },
        "id": "exP57VgFNOU1",
        "outputId": "c44d7c72-4220-429c-d804-059275656f26"
      },
      "source": [
        "label.index('Jaouen')"
      ],
      "execution_count": null,
      "outputs": [
        {
          "output_type": "execute_result",
          "data": {
            "text/plain": [
              "5"
            ]
          },
          "metadata": {},
          "execution_count": 40
        }
      ]
    },
    {
      "cell_type": "code",
      "metadata": {
        "id": "DDUPgSFhNn29"
      },
      "source": [],
      "execution_count": null,
      "outputs": []
    },
    {
      "cell_type": "code",
      "metadata": {
        "id": "9eSgi4OLlQoh",
        "colab": {
          "base_uri": "https://localhost:8080/",
          "height": 226
        },
        "outputId": "4b89621d-9af8-4e61-d6be-280e294b44a2"
      },
      "source": [
        "fig, ax = plt.subplots()\n",
        "#fig.tight_layout()  # otherwise the right y-label is slightly clipped\n",
        "plt.title('Lung CT')\n",
        "scatter = ax.scatter(data1.mean(0),np.clip(data2.mean(0),0,.2),1e4/np.sqrt(runtime[:len(label)-1].mean(1)),color=c,alpha=0.66,label=label[:-1])\n",
        "x2 = np.clip(data2.mean(0),0,.2)\n",
        "x1 = data1.mean(0)\n",
        "x1[8]-=.2; x1[9]+=.15; x2[10]-=.03; x1[4]+= 0.15;\n",
        "x2[6]+=.025; x2[7]+=.01; x2[3]+=.02; x1[0]-=.2; x2[0]-=.03;\n",
        "x2[2]+=.01; x2[5]-=.01; x1[5]+=.1; x2[1]-=0.04\n",
        " # x1[6]+= .1; x2[5]+=.2;\n",
        "for i in range(len(label)-1):\n",
        "    plt.annotate(label[i], xy=(x1[i],x2[i]),color=c[i])\n",
        "plt.xlim([1.5,3])\n",
        "plt.xlabel('TRE (lower better)')\n",
        "plt.ylim([-.0,.13])\n",
        "plt.ylabel('Smoothness (log-J-det lower better)')\n",
        "plt.savefig('./bubbles_lungCT.pdf')#, dpi=200)\n",
        "plt.show()"
      ],
      "execution_count": null,
      "outputs": [
        {
          "output_type": "display_data",
          "data": {
            "image/png": "[encoded data removed]",
            "text/plain": [
              "<Figure size 432x288 with 1 Axes>"
            ]
          },
          "metadata": {
            "needs_background": "light"
          }
        }
      ]
    },
    {
      "cell_type": "code",
      "metadata": {
        "id": "WOyzXZljONno",
        "colab": {
          "base_uri": "https://localhost:8080/",
          "height": 262
        },
        "outputId": "06a0204e-fe55-4046-ebe3-2d3f9cb4c8f5"
      },
      "source": [
        "with plt.style.context('bmh'):\n",
        "  fig, ax = plt.subplots()\n",
        "  #fig.tight_layout()  # otherwise the right y-label is slightly clipped\n",
        "  #plt.title('Lung CT')\n",
        "  order = np.array([0,1,2,3,4,5,6,7,8,10,9,11,12,13,14])\n",
        "  scatter = ax.scatter(data1.mean(0)[order],data2.mean(0)[order],1e4/np.sqrt(runtime[:len(label)-1].mean(1)[order]),color=np.array(c)[order],alpha=1,label=np.array(label[:-1])[order])\n",
        "  x2 = data2.mean(0)\n",
        "  x1 = data1.mean(0)\n",
        "  x1[8]-=.2; x1[9]+=.15; x2[10]-=.03; x1[4]+= 0.15;\n",
        "  x2[6]+=.025; x2[7]+=.01; x2[3]+=.02; x1[0]-=.2; x2[0]-=.03;\n",
        "  x2[2]+=.01; x2[5]-=.01; x1[5]+=.1; x2[1]-=0.04\n",
        "  # x1[6]+= .1; x2[5]+=.2;\n",
        "  #for i in range(len(label)-1):\n",
        "  #    plt.annotate(label[i], xy=(x1[i],x2[i]),color=c[i])\n",
        "  plt.xlim([1.5,3])\n",
        "  #plt.xlabel('TRE (lower better)')\n",
        "  plt.ylim([-.0,.13])\n",
        "  #plt.ylabel('Smoothness (log-J-det lower better)')\n",
        "  #plt.savefig('./bubbles_lungCT.pdf')#, dpi=200)\n",
        "  ax.set_axisbelow(True)\n",
        "  plt.savefig('./bubbles_lungCT.png', dpi=200, transparent=True)\n",
        "  plt.show()"
      ],
      "execution_count": null,
      "outputs": [
        {
          "output_type": "display_data",
          "data": {
            "image/png": "[encoded data removed]",
            "text/plain": [
              "<Figure size 432x288 with 1 Axes>"
            ]
          },
          "metadata": {
            "needs_background": "light"
          }
        }
      ]
    },
    {
      "cell_type": "code",
      "metadata": {
        "id": "TRZhI0XuOLFu",
        "colab": {
          "base_uri": "https://localhost:8080/"
        },
        "outputId": "f296fecf-0d79-42c6-f1cf-619949594085"
      },
      "source": [
        "label"
      ],
      "execution_count": null,
      "outputs": [
        {
          "output_type": "execute_result",
          "data": {
            "text/plain": [
              "['corrField',\n",
              " 'ConvexAdam',\n",
              " 'MEVIS',\n",
              " 'LapIRN',\n",
              " 'PDD-Net',\n",
              " 'LaTIM',\n",
              " 'Lifshitz',\n",
              " 'Imperial',\n",
              " 'PIMed',\n",
              " 'NiftyReg',\n",
              " 'Driver',\n",
              " 'Winter',\n",
              " 'Epicure',\n",
              " 'Multi-brain',\n",
              " 'Gunnarsson',\n",
              " 'Initial']"
            ]
          },
          "metadata": {},
          "execution_count": 29
        }
      ]
    },
    {
      "cell_type": "code",
      "metadata": {
        "id": "pXlsGd3-N3Q1"
      },
      "source": [],
      "execution_count": null,
      "outputs": []
    },
    {
      "cell_type": "code",
      "metadata": {
        "id": "vWIzOAAINruJ"
      },
      "source": [],
      "execution_count": null,
      "outputs": []
    },
    {
      "cell_type": "code",
      "metadata": {
        "id": "WJf7bMQWNjV2"
      },
      "source": [],
      "execution_count": null,
      "outputs": []
    },
    {
      "cell_type": "code",
      "metadata": {
        "id": "EwBEvQXtNhqR"
      },
      "source": [],
      "execution_count": null,
      "outputs": []
    },
    {
      "cell_type": "code",
      "metadata": {
        "id": "fU8-gHbZNgdk"
      },
      "source": [],
      "execution_count": null,
      "outputs": []
    },
    {
      "cell_type": "code",
      "metadata": {
        "id": "TVtdtwOKHEmh"
      },
      "source": [],
      "execution_count": null,
      "outputs": []
    }
  ]
}